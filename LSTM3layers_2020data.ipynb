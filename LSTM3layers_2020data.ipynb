{
  "nbformat": 4,
  "nbformat_minor": 0,
  "metadata": {
    "colab": {
      "provenance": [],
      "authorship_tag": "ABX9TyPsK0hQnfqKNMG7YF7KvOGs",
      "include_colab_link": true
    },
    "kernelspec": {
      "name": "python3",
      "display_name": "Python 3"
    },
    "language_info": {
      "name": "python"
    },
    "accelerator": "GPU",
    "gpuClass": "standard"
  },
  "cells": [
    {
      "cell_type": "markdown",
      "metadata": {
        "id": "view-in-github",
        "colab_type": "text"
      },
      "source": [
        "<a href=\"https://colab.research.google.com/github/SRINIVASDEVARAJULA/Algorithmic-Trading-Using-Neural-Networks/blob/main/LSTM3layers_2020data.ipynb\" target=\"_parent\"><img src=\"https://colab.research.google.com/assets/colab-badge.svg\" alt=\"Open In Colab\"/></a>"
      ]
    },
    {
      "cell_type": "code",
      "execution_count": 4,
      "metadata": {
        "id": "R0Q-G4hZdpsm"
      },
      "outputs": [],
      "source": [
        "import numpy as np\n",
        "import pandas as pd\n",
        "import matplotlib.pyplot as plt\n",
        "%matplotlib inline\n",
        "from sklearn.preprocessing import MinMaxScaler\n",
        "import math \n",
        "from tensorflow.keras.models import Sequential\n",
        "from tensorflow.keras.layers import Dense\n",
        "from tensorflow.keras.layers import LSTM"
      ]
    },
    {
      "cell_type": "code",
      "source": [
        "import tensorflow as tf\n",
        "from tensorflow import keras\n"
      ],
      "metadata": {
        "id": "QpYM81bad6a_"
      },
      "execution_count": 3,
      "outputs": []
    },
    {
      "cell_type": "code",
      "source": [
        "print(tf.__version__)"
      ],
      "metadata": {
        "colab": {
          "base_uri": "https://localhost:8080/"
        },
        "id": "TycIPRxyd6gQ",
        "outputId": "8cd3e4eb-53a0-4b0a-cf29-d4ccbe8af124"
      },
      "execution_count": 5,
      "outputs": [
        {
          "output_type": "stream",
          "name": "stdout",
          "text": [
            "2.9.2\n"
          ]
        }
      ]
    },
    {
      "cell_type": "code",
      "source": [
        "np.random.seed(19)"
      ],
      "metadata": {
        "id": "KpGsG-8dd6jB"
      },
      "execution_count": 6,
      "outputs": []
    },
    {
      "cell_type": "code",
      "source": [
        "df=pd.read_csv(\"df_2020.csv\")"
      ],
      "metadata": {
        "id": "rhRJAJBmd6mF"
      },
      "execution_count": 8,
      "outputs": []
    },
    {
      "cell_type": "code",
      "source": [
        "df.head()"
      ],
      "metadata": {
        "colab": {
          "base_uri": "https://localhost:8080/",
          "height": 250
        },
        "id": "h8ophe3od6or",
        "outputId": "aa49848f-f4c5-4817-e030-b06759327c06"
      },
      "execution_count": 9,
      "outputs": [
        {
          "output_type": "execute_result",
          "data": {
            "text/plain": [
              "            Local time  Open_Bid  High_Bid   Low_Bid  Close_Bid  Volume_Bid  \\\n",
              "0  2020.01.01 23:00:00  1518.768  1520.675  1518.768   1519.895     0.02014   \n",
              "1  2020.01.01 23:01:00  1519.875  1520.335  1519.595   1520.315     0.00880   \n",
              "2  2020.01.01 23:02:00  1520.285  1520.305  1520.035   1520.205     0.00640   \n",
              "3  2020.01.01 23:03:00  1520.185  1520.275  1520.015   1520.275     0.00390   \n",
              "4  2020.01.01 23:04:00  1520.325  1520.685  1520.195   1520.505     0.00767   \n",
              "\n",
              "   Open_Ask  High_Ask   Low_Ask  Close_Ask  Volume_Ask  \n",
              "0  1519.592  1521.245  1519.435   1520.385     0.01987  \n",
              "1  1520.385  1520.825  1520.085   1520.805     0.00907  \n",
              "2  1520.785  1520.795  1520.525   1520.695     0.00748  \n",
              "3  1520.675  1520.765  1520.515   1520.765     0.00417  \n",
              "4  1520.825  1521.175  1520.705   1520.985     0.00830  "
            ],
            "text/html": [
              "\n",
              "  <div id=\"df-da221698-a99d-40e3-964a-f2ddd935766a\">\n",
              "    <div class=\"colab-df-container\">\n",
              "      <div>\n",
              "<style scoped>\n",
              "    .dataframe tbody tr th:only-of-type {\n",
              "        vertical-align: middle;\n",
              "    }\n",
              "\n",
              "    .dataframe tbody tr th {\n",
              "        vertical-align: top;\n",
              "    }\n",
              "\n",
              "    .dataframe thead th {\n",
              "        text-align: right;\n",
              "    }\n",
              "</style>\n",
              "<table border=\"1\" class=\"dataframe\">\n",
              "  <thead>\n",
              "    <tr style=\"text-align: right;\">\n",
              "      <th></th>\n",
              "      <th>Local time</th>\n",
              "      <th>Open_Bid</th>\n",
              "      <th>High_Bid</th>\n",
              "      <th>Low_Bid</th>\n",
              "      <th>Close_Bid</th>\n",
              "      <th>Volume_Bid</th>\n",
              "      <th>Open_Ask</th>\n",
              "      <th>High_Ask</th>\n",
              "      <th>Low_Ask</th>\n",
              "      <th>Close_Ask</th>\n",
              "      <th>Volume_Ask</th>\n",
              "    </tr>\n",
              "  </thead>\n",
              "  <tbody>\n",
              "    <tr>\n",
              "      <th>0</th>\n",
              "      <td>2020.01.01 23:00:00</td>\n",
              "      <td>1518.768</td>\n",
              "      <td>1520.675</td>\n",
              "      <td>1518.768</td>\n",
              "      <td>1519.895</td>\n",
              "      <td>0.02014</td>\n",
              "      <td>1519.592</td>\n",
              "      <td>1521.245</td>\n",
              "      <td>1519.435</td>\n",
              "      <td>1520.385</td>\n",
              "      <td>0.01987</td>\n",
              "    </tr>\n",
              "    <tr>\n",
              "      <th>1</th>\n",
              "      <td>2020.01.01 23:01:00</td>\n",
              "      <td>1519.875</td>\n",
              "      <td>1520.335</td>\n",
              "      <td>1519.595</td>\n",
              "      <td>1520.315</td>\n",
              "      <td>0.00880</td>\n",
              "      <td>1520.385</td>\n",
              "      <td>1520.825</td>\n",
              "      <td>1520.085</td>\n",
              "      <td>1520.805</td>\n",
              "      <td>0.00907</td>\n",
              "    </tr>\n",
              "    <tr>\n",
              "      <th>2</th>\n",
              "      <td>2020.01.01 23:02:00</td>\n",
              "      <td>1520.285</td>\n",
              "      <td>1520.305</td>\n",
              "      <td>1520.035</td>\n",
              "      <td>1520.205</td>\n",
              "      <td>0.00640</td>\n",
              "      <td>1520.785</td>\n",
              "      <td>1520.795</td>\n",
              "      <td>1520.525</td>\n",
              "      <td>1520.695</td>\n",
              "      <td>0.00748</td>\n",
              "    </tr>\n",
              "    <tr>\n",
              "      <th>3</th>\n",
              "      <td>2020.01.01 23:03:00</td>\n",
              "      <td>1520.185</td>\n",
              "      <td>1520.275</td>\n",
              "      <td>1520.015</td>\n",
              "      <td>1520.275</td>\n",
              "      <td>0.00390</td>\n",
              "      <td>1520.675</td>\n",
              "      <td>1520.765</td>\n",
              "      <td>1520.515</td>\n",
              "      <td>1520.765</td>\n",
              "      <td>0.00417</td>\n",
              "    </tr>\n",
              "    <tr>\n",
              "      <th>4</th>\n",
              "      <td>2020.01.01 23:04:00</td>\n",
              "      <td>1520.325</td>\n",
              "      <td>1520.685</td>\n",
              "      <td>1520.195</td>\n",
              "      <td>1520.505</td>\n",
              "      <td>0.00767</td>\n",
              "      <td>1520.825</td>\n",
              "      <td>1521.175</td>\n",
              "      <td>1520.705</td>\n",
              "      <td>1520.985</td>\n",
              "      <td>0.00830</td>\n",
              "    </tr>\n",
              "  </tbody>\n",
              "</table>\n",
              "</div>\n",
              "      <button class=\"colab-df-convert\" onclick=\"convertToInteractive('df-da221698-a99d-40e3-964a-f2ddd935766a')\"\n",
              "              title=\"Convert this dataframe to an interactive table.\"\n",
              "              style=\"display:none;\">\n",
              "        \n",
              "  <svg xmlns=\"http://www.w3.org/2000/svg\" height=\"24px\"viewBox=\"0 0 24 24\"\n",
              "       width=\"24px\">\n",
              "    <path d=\"M0 0h24v24H0V0z\" fill=\"none\"/>\n",
              "    <path d=\"M18.56 5.44l.94 2.06.94-2.06 2.06-.94-2.06-.94-.94-2.06-.94 2.06-2.06.94zm-11 1L8.5 8.5l.94-2.06 2.06-.94-2.06-.94L8.5 2.5l-.94 2.06-2.06.94zm10 10l.94 2.06.94-2.06 2.06-.94-2.06-.94-.94-2.06-.94 2.06-2.06.94z\"/><path d=\"M17.41 7.96l-1.37-1.37c-.4-.4-.92-.59-1.43-.59-.52 0-1.04.2-1.43.59L10.3 9.45l-7.72 7.72c-.78.78-.78 2.05 0 2.83L4 21.41c.39.39.9.59 1.41.59.51 0 1.02-.2 1.41-.59l7.78-7.78 2.81-2.81c.8-.78.8-2.07 0-2.86zM5.41 20L4 18.59l7.72-7.72 1.47 1.35L5.41 20z\"/>\n",
              "  </svg>\n",
              "      </button>\n",
              "      \n",
              "  <style>\n",
              "    .colab-df-container {\n",
              "      display:flex;\n",
              "      flex-wrap:wrap;\n",
              "      gap: 12px;\n",
              "    }\n",
              "\n",
              "    .colab-df-convert {\n",
              "      background-color: #E8F0FE;\n",
              "      border: none;\n",
              "      border-radius: 50%;\n",
              "      cursor: pointer;\n",
              "      display: none;\n",
              "      fill: #1967D2;\n",
              "      height: 32px;\n",
              "      padding: 0 0 0 0;\n",
              "      width: 32px;\n",
              "    }\n",
              "\n",
              "    .colab-df-convert:hover {\n",
              "      background-color: #E2EBFA;\n",
              "      box-shadow: 0px 1px 2px rgba(60, 64, 67, 0.3), 0px 1px 3px 1px rgba(60, 64, 67, 0.15);\n",
              "      fill: #174EA6;\n",
              "    }\n",
              "\n",
              "    [theme=dark] .colab-df-convert {\n",
              "      background-color: #3B4455;\n",
              "      fill: #D2E3FC;\n",
              "    }\n",
              "\n",
              "    [theme=dark] .colab-df-convert:hover {\n",
              "      background-color: #434B5C;\n",
              "      box-shadow: 0px 1px 3px 1px rgba(0, 0, 0, 0.15);\n",
              "      filter: drop-shadow(0px 1px 2px rgba(0, 0, 0, 0.3));\n",
              "      fill: #FFFFFF;\n",
              "    }\n",
              "  </style>\n",
              "\n",
              "      <script>\n",
              "        const buttonEl =\n",
              "          document.querySelector('#df-da221698-a99d-40e3-964a-f2ddd935766a button.colab-df-convert');\n",
              "        buttonEl.style.display =\n",
              "          google.colab.kernel.accessAllowed ? 'block' : 'none';\n",
              "\n",
              "        async function convertToInteractive(key) {\n",
              "          const element = document.querySelector('#df-da221698-a99d-40e3-964a-f2ddd935766a');\n",
              "          const dataTable =\n",
              "            await google.colab.kernel.invokeFunction('convertToInteractive',\n",
              "                                                     [key], {});\n",
              "          if (!dataTable) return;\n",
              "\n",
              "          const docLinkHtml = 'Like what you see? Visit the ' +\n",
              "            '<a target=\"_blank\" href=https://colab.research.google.com/notebooks/data_table.ipynb>data table notebook</a>'\n",
              "            + ' to learn more about interactive tables.';\n",
              "          element.innerHTML = '';\n",
              "          dataTable['output_type'] = 'display_data';\n",
              "          await google.colab.output.renderOutput(dataTable, element);\n",
              "          const docLink = document.createElement('div');\n",
              "          docLink.innerHTML = docLinkHtml;\n",
              "          element.appendChild(docLink);\n",
              "        }\n",
              "      </script>\n",
              "    </div>\n",
              "  </div>\n",
              "  "
            ]
          },
          "metadata": {},
          "execution_count": 9
        }
      ]
    },
    {
      "cell_type": "code",
      "source": [
        "df.tail()"
      ],
      "metadata": {
        "colab": {
          "base_uri": "https://localhost:8080/",
          "height": 337
        },
        "id": "tTmkxlCNbsQm",
        "outputId": "34238406-2614-4d2f-c013-97c00c45b141"
      },
      "execution_count": 10,
      "outputs": [
        {
          "output_type": "execute_result",
          "data": {
            "text/plain": [
              "               Local time  Open_Bid  High_Bid   Low_Bid  Close_Bid  \\\n",
              "9638  2020.01.10 21:38:00  1561.148  1561.748  1561.148   1561.648   \n",
              "9639  2020.01.10 21:39:00  1561.648  1561.798  1561.398   1561.505   \n",
              "9640  2020.01.10 21:40:00  1561.508  1562.458  1561.498   1562.298   \n",
              "9641  2020.01.10 21:41:00  1562.285  1562.598  1561.915   1562.598   \n",
              "9642  2020.01.10 21:42:00  1562.598  1563.008  1562.398   1562.398   \n",
              "\n",
              "      Volume_Bid  Open_Ask  High_Ask   Low_Ask  Close_Ask  Volume_Ask  \n",
              "9638     0.03540  1561.532  1562.115  1561.462   1562.005     0.01204  \n",
              "9639     0.02767  1561.972  1562.155  1561.752   1561.872     0.01632  \n",
              "9640     0.05045  1561.885  1562.822  1561.802   1562.642     0.02693  \n",
              "9641     0.05644  1562.645  1563.002  1562.312   1562.952     0.01840  \n",
              "9642     0.03979  1562.942  1563.352  1562.742     15.000         NaN  "
            ],
            "text/html": [
              "\n",
              "  <div id=\"df-8c93e6d8-59e2-43a0-bbc0-81e55211d765\">\n",
              "    <div class=\"colab-df-container\">\n",
              "      <div>\n",
              "<style scoped>\n",
              "    .dataframe tbody tr th:only-of-type {\n",
              "        vertical-align: middle;\n",
              "    }\n",
              "\n",
              "    .dataframe tbody tr th {\n",
              "        vertical-align: top;\n",
              "    }\n",
              "\n",
              "    .dataframe thead th {\n",
              "        text-align: right;\n",
              "    }\n",
              "</style>\n",
              "<table border=\"1\" class=\"dataframe\">\n",
              "  <thead>\n",
              "    <tr style=\"text-align: right;\">\n",
              "      <th></th>\n",
              "      <th>Local time</th>\n",
              "      <th>Open_Bid</th>\n",
              "      <th>High_Bid</th>\n",
              "      <th>Low_Bid</th>\n",
              "      <th>Close_Bid</th>\n",
              "      <th>Volume_Bid</th>\n",
              "      <th>Open_Ask</th>\n",
              "      <th>High_Ask</th>\n",
              "      <th>Low_Ask</th>\n",
              "      <th>Close_Ask</th>\n",
              "      <th>Volume_Ask</th>\n",
              "    </tr>\n",
              "  </thead>\n",
              "  <tbody>\n",
              "    <tr>\n",
              "      <th>9638</th>\n",
              "      <td>2020.01.10 21:38:00</td>\n",
              "      <td>1561.148</td>\n",
              "      <td>1561.748</td>\n",
              "      <td>1561.148</td>\n",
              "      <td>1561.648</td>\n",
              "      <td>0.03540</td>\n",
              "      <td>1561.532</td>\n",
              "      <td>1562.115</td>\n",
              "      <td>1561.462</td>\n",
              "      <td>1562.005</td>\n",
              "      <td>0.01204</td>\n",
              "    </tr>\n",
              "    <tr>\n",
              "      <th>9639</th>\n",
              "      <td>2020.01.10 21:39:00</td>\n",
              "      <td>1561.648</td>\n",
              "      <td>1561.798</td>\n",
              "      <td>1561.398</td>\n",
              "      <td>1561.505</td>\n",
              "      <td>0.02767</td>\n",
              "      <td>1561.972</td>\n",
              "      <td>1562.155</td>\n",
              "      <td>1561.752</td>\n",
              "      <td>1561.872</td>\n",
              "      <td>0.01632</td>\n",
              "    </tr>\n",
              "    <tr>\n",
              "      <th>9640</th>\n",
              "      <td>2020.01.10 21:40:00</td>\n",
              "      <td>1561.508</td>\n",
              "      <td>1562.458</td>\n",
              "      <td>1561.498</td>\n",
              "      <td>1562.298</td>\n",
              "      <td>0.05045</td>\n",
              "      <td>1561.885</td>\n",
              "      <td>1562.822</td>\n",
              "      <td>1561.802</td>\n",
              "      <td>1562.642</td>\n",
              "      <td>0.02693</td>\n",
              "    </tr>\n",
              "    <tr>\n",
              "      <th>9641</th>\n",
              "      <td>2020.01.10 21:41:00</td>\n",
              "      <td>1562.285</td>\n",
              "      <td>1562.598</td>\n",
              "      <td>1561.915</td>\n",
              "      <td>1562.598</td>\n",
              "      <td>0.05644</td>\n",
              "      <td>1562.645</td>\n",
              "      <td>1563.002</td>\n",
              "      <td>1562.312</td>\n",
              "      <td>1562.952</td>\n",
              "      <td>0.01840</td>\n",
              "    </tr>\n",
              "    <tr>\n",
              "      <th>9642</th>\n",
              "      <td>2020.01.10 21:42:00</td>\n",
              "      <td>1562.598</td>\n",
              "      <td>1563.008</td>\n",
              "      <td>1562.398</td>\n",
              "      <td>1562.398</td>\n",
              "      <td>0.03979</td>\n",
              "      <td>1562.942</td>\n",
              "      <td>1563.352</td>\n",
              "      <td>1562.742</td>\n",
              "      <td>15.000</td>\n",
              "      <td>NaN</td>\n",
              "    </tr>\n",
              "  </tbody>\n",
              "</table>\n",
              "</div>\n",
              "      <button class=\"colab-df-convert\" onclick=\"convertToInteractive('df-8c93e6d8-59e2-43a0-bbc0-81e55211d765')\"\n",
              "              title=\"Convert this dataframe to an interactive table.\"\n",
              "              style=\"display:none;\">\n",
              "        \n",
              "  <svg xmlns=\"http://www.w3.org/2000/svg\" height=\"24px\"viewBox=\"0 0 24 24\"\n",
              "       width=\"24px\">\n",
              "    <path d=\"M0 0h24v24H0V0z\" fill=\"none\"/>\n",
              "    <path d=\"M18.56 5.44l.94 2.06.94-2.06 2.06-.94-2.06-.94-.94-2.06-.94 2.06-2.06.94zm-11 1L8.5 8.5l.94-2.06 2.06-.94-2.06-.94L8.5 2.5l-.94 2.06-2.06.94zm10 10l.94 2.06.94-2.06 2.06-.94-2.06-.94-.94-2.06-.94 2.06-2.06.94z\"/><path d=\"M17.41 7.96l-1.37-1.37c-.4-.4-.92-.59-1.43-.59-.52 0-1.04.2-1.43.59L10.3 9.45l-7.72 7.72c-.78.78-.78 2.05 0 2.83L4 21.41c.39.39.9.59 1.41.59.51 0 1.02-.2 1.41-.59l7.78-7.78 2.81-2.81c.8-.78.8-2.07 0-2.86zM5.41 20L4 18.59l7.72-7.72 1.47 1.35L5.41 20z\"/>\n",
              "  </svg>\n",
              "      </button>\n",
              "      \n",
              "  <style>\n",
              "    .colab-df-container {\n",
              "      display:flex;\n",
              "      flex-wrap:wrap;\n",
              "      gap: 12px;\n",
              "    }\n",
              "\n",
              "    .colab-df-convert {\n",
              "      background-color: #E8F0FE;\n",
              "      border: none;\n",
              "      border-radius: 50%;\n",
              "      cursor: pointer;\n",
              "      display: none;\n",
              "      fill: #1967D2;\n",
              "      height: 32px;\n",
              "      padding: 0 0 0 0;\n",
              "      width: 32px;\n",
              "    }\n",
              "\n",
              "    .colab-df-convert:hover {\n",
              "      background-color: #E2EBFA;\n",
              "      box-shadow: 0px 1px 2px rgba(60, 64, 67, 0.3), 0px 1px 3px 1px rgba(60, 64, 67, 0.15);\n",
              "      fill: #174EA6;\n",
              "    }\n",
              "\n",
              "    [theme=dark] .colab-df-convert {\n",
              "      background-color: #3B4455;\n",
              "      fill: #D2E3FC;\n",
              "    }\n",
              "\n",
              "    [theme=dark] .colab-df-convert:hover {\n",
              "      background-color: #434B5C;\n",
              "      box-shadow: 0px 1px 3px 1px rgba(0, 0, 0, 0.15);\n",
              "      filter: drop-shadow(0px 1px 2px rgba(0, 0, 0, 0.3));\n",
              "      fill: #FFFFFF;\n",
              "    }\n",
              "  </style>\n",
              "\n",
              "      <script>\n",
              "        const buttonEl =\n",
              "          document.querySelector('#df-8c93e6d8-59e2-43a0-bbc0-81e55211d765 button.colab-df-convert');\n",
              "        buttonEl.style.display =\n",
              "          google.colab.kernel.accessAllowed ? 'block' : 'none';\n",
              "\n",
              "        async function convertToInteractive(key) {\n",
              "          const element = document.querySelector('#df-8c93e6d8-59e2-43a0-bbc0-81e55211d765');\n",
              "          const dataTable =\n",
              "            await google.colab.kernel.invokeFunction('convertToInteractive',\n",
              "                                                     [key], {});\n",
              "          if (!dataTable) return;\n",
              "\n",
              "          const docLinkHtml = 'Like what you see? Visit the ' +\n",
              "            '<a target=\"_blank\" href=https://colab.research.google.com/notebooks/data_table.ipynb>data table notebook</a>'\n",
              "            + ' to learn more about interactive tables.';\n",
              "          element.innerHTML = '';\n",
              "          dataTable['output_type'] = 'display_data';\n",
              "          await google.colab.output.renderOutput(dataTable, element);\n",
              "          const docLink = document.createElement('div');\n",
              "          docLink.innerHTML = docLinkHtml;\n",
              "          element.appendChild(docLink);\n",
              "        }\n",
              "      </script>\n",
              "    </div>\n",
              "  </div>\n",
              "  "
            ]
          },
          "metadata": {},
          "execution_count": 10
        }
      ]
    },
    {
      "cell_type": "code",
      "source": [
        "df.info()"
      ],
      "metadata": {
        "colab": {
          "base_uri": "https://localhost:8080/"
        },
        "id": "gvoz-WWNbvCl",
        "outputId": "62749100-6374-4912-e091-a45ebba3f299"
      },
      "execution_count": 11,
      "outputs": [
        {
          "output_type": "stream",
          "name": "stdout",
          "text": [
            "<class 'pandas.core.frame.DataFrame'>\n",
            "RangeIndex: 9643 entries, 0 to 9642\n",
            "Data columns (total 11 columns):\n",
            " #   Column      Non-Null Count  Dtype  \n",
            "---  ------      --------------  -----  \n",
            " 0   Local time  9643 non-null   object \n",
            " 1   Open_Bid    9643 non-null   float64\n",
            " 2   High_Bid    9643 non-null   float64\n",
            " 3   Low_Bid     9643 non-null   float64\n",
            " 4   Close_Bid   9643 non-null   float64\n",
            " 5   Volume_Bid  9643 non-null   float64\n",
            " 6   Open_Ask    9643 non-null   float64\n",
            " 7   High_Ask    9643 non-null   float64\n",
            " 8   Low_Ask     9643 non-null   float64\n",
            " 9   Close_Ask   9643 non-null   float64\n",
            " 10  Volume_Ask  9642 non-null   float64\n",
            "dtypes: float64(10), object(1)\n",
            "memory usage: 828.8+ KB\n"
          ]
        }
      ]
    },
    {
      "cell_type": "code",
      "source": [
        "df['Local time']=df['Local time'].str[0:22]\n",
        "df['Local time']"
      ],
      "metadata": {
        "colab": {
          "base_uri": "https://localhost:8080/"
        },
        "id": "0hZDyYswd6rG",
        "outputId": "a84f64be-fda1-4865-a941-a2f29a7885a7"
      },
      "execution_count": 12,
      "outputs": [
        {
          "output_type": "execute_result",
          "data": {
            "text/plain": [
              "0       2020.01.01 23:00:00\n",
              "1       2020.01.01 23:01:00\n",
              "2       2020.01.01 23:02:00\n",
              "3       2020.01.01 23:03:00\n",
              "4       2020.01.01 23:04:00\n",
              "               ...         \n",
              "9638    2020.01.10 21:38:00\n",
              "9639    2020.01.10 21:39:00\n",
              "9640    2020.01.10 21:40:00\n",
              "9641    2020.01.10 21:41:00\n",
              "9642    2020.01.10 21:42:00\n",
              "Name: Local time, Length: 9643, dtype: object"
            ]
          },
          "metadata": {},
          "execution_count": 12
        }
      ]
    },
    {
      "cell_type": "code",
      "source": [
        "df[\"Open\"]=(df[\"Open_Bid\"]+df[\"Open_Ask\"])/2\n",
        "df[\"High\"]=(df[\"High_Bid\"]+df[\"High_Ask\"])/2\n",
        "df[\"Low\"]=(df[\"Low_Bid\"]+df[\"Low_Ask\"])/2\n",
        "df[\"Close\"]=(df[\"Close_Bid\"]+df[\"Close_Ask\"])/2\n"
      ],
      "metadata": {
        "id": "pQCtaac1d6t7"
      },
      "execution_count": 13,
      "outputs": []
    },
    {
      "cell_type": "code",
      "source": [
        "df.shape"
      ],
      "metadata": {
        "colab": {
          "base_uri": "https://localhost:8080/"
        },
        "id": "E6zgQl7dd6wR",
        "outputId": "8147c50b-d89e-4340-a388-ef4cf8c17a90"
      },
      "execution_count": 14,
      "outputs": [
        {
          "output_type": "execute_result",
          "data": {
            "text/plain": [
              "(9643, 15)"
            ]
          },
          "metadata": {},
          "execution_count": 14
        }
      ]
    },
    {
      "cell_type": "code",
      "source": [
        "df=df[:20000]\n",
        "df.shape"
      ],
      "metadata": {
        "colab": {
          "base_uri": "https://localhost:8080/"
        },
        "id": "NVSnn1B1d6y-",
        "outputId": "2b2dc69f-1c86-4b5b-b965-86913c0e5310"
      },
      "execution_count": 15,
      "outputs": [
        {
          "output_type": "execute_result",
          "data": {
            "text/plain": [
              "(9643, 15)"
            ]
          },
          "metadata": {},
          "execution_count": 15
        }
      ]
    },
    {
      "cell_type": "code",
      "source": [
        "df.head()"
      ],
      "metadata": {
        "colab": {
          "base_uri": "https://localhost:8080/",
          "height": 374
        },
        "id": "w19DhdBod61s",
        "outputId": "d651829d-73ea-4f24-951f-c756a9a3b986"
      },
      "execution_count": 16,
      "outputs": [
        {
          "output_type": "execute_result",
          "data": {
            "text/plain": [
              "            Local time  Open_Bid  High_Bid   Low_Bid  Close_Bid  Volume_Bid  \\\n",
              "0  2020.01.01 23:00:00  1518.768  1520.675  1518.768   1519.895     0.02014   \n",
              "1  2020.01.01 23:01:00  1519.875  1520.335  1519.595   1520.315     0.00880   \n",
              "2  2020.01.01 23:02:00  1520.285  1520.305  1520.035   1520.205     0.00640   \n",
              "3  2020.01.01 23:03:00  1520.185  1520.275  1520.015   1520.275     0.00390   \n",
              "4  2020.01.01 23:04:00  1520.325  1520.685  1520.195   1520.505     0.00767   \n",
              "\n",
              "   Open_Ask  High_Ask   Low_Ask  Close_Ask  Volume_Ask      Open     High  \\\n",
              "0  1519.592  1521.245  1519.435   1520.385     0.01987  1519.180  1520.96   \n",
              "1  1520.385  1520.825  1520.085   1520.805     0.00907  1520.130  1520.58   \n",
              "2  1520.785  1520.795  1520.525   1520.695     0.00748  1520.535  1520.55   \n",
              "3  1520.675  1520.765  1520.515   1520.765     0.00417  1520.430  1520.52   \n",
              "4  1520.825  1521.175  1520.705   1520.985     0.00830  1520.575  1520.93   \n",
              "\n",
              "         Low     Close  \n",
              "0  1519.1015  1520.140  \n",
              "1  1519.8400  1520.560  \n",
              "2  1520.2800  1520.450  \n",
              "3  1520.2650  1520.520  \n",
              "4  1520.4500  1520.745  "
            ],
            "text/html": [
              "\n",
              "  <div id=\"df-3c54e2d2-6bc5-4281-8598-d24b50a3ffa0\">\n",
              "    <div class=\"colab-df-container\">\n",
              "      <div>\n",
              "<style scoped>\n",
              "    .dataframe tbody tr th:only-of-type {\n",
              "        vertical-align: middle;\n",
              "    }\n",
              "\n",
              "    .dataframe tbody tr th {\n",
              "        vertical-align: top;\n",
              "    }\n",
              "\n",
              "    .dataframe thead th {\n",
              "        text-align: right;\n",
              "    }\n",
              "</style>\n",
              "<table border=\"1\" class=\"dataframe\">\n",
              "  <thead>\n",
              "    <tr style=\"text-align: right;\">\n",
              "      <th></th>\n",
              "      <th>Local time</th>\n",
              "      <th>Open_Bid</th>\n",
              "      <th>High_Bid</th>\n",
              "      <th>Low_Bid</th>\n",
              "      <th>Close_Bid</th>\n",
              "      <th>Volume_Bid</th>\n",
              "      <th>Open_Ask</th>\n",
              "      <th>High_Ask</th>\n",
              "      <th>Low_Ask</th>\n",
              "      <th>Close_Ask</th>\n",
              "      <th>Volume_Ask</th>\n",
              "      <th>Open</th>\n",
              "      <th>High</th>\n",
              "      <th>Low</th>\n",
              "      <th>Close</th>\n",
              "    </tr>\n",
              "  </thead>\n",
              "  <tbody>\n",
              "    <tr>\n",
              "      <th>0</th>\n",
              "      <td>2020.01.01 23:00:00</td>\n",
              "      <td>1518.768</td>\n",
              "      <td>1520.675</td>\n",
              "      <td>1518.768</td>\n",
              "      <td>1519.895</td>\n",
              "      <td>0.02014</td>\n",
              "      <td>1519.592</td>\n",
              "      <td>1521.245</td>\n",
              "      <td>1519.435</td>\n",
              "      <td>1520.385</td>\n",
              "      <td>0.01987</td>\n",
              "      <td>1519.180</td>\n",
              "      <td>1520.96</td>\n",
              "      <td>1519.1015</td>\n",
              "      <td>1520.140</td>\n",
              "    </tr>\n",
              "    <tr>\n",
              "      <th>1</th>\n",
              "      <td>2020.01.01 23:01:00</td>\n",
              "      <td>1519.875</td>\n",
              "      <td>1520.335</td>\n",
              "      <td>1519.595</td>\n",
              "      <td>1520.315</td>\n",
              "      <td>0.00880</td>\n",
              "      <td>1520.385</td>\n",
              "      <td>1520.825</td>\n",
              "      <td>1520.085</td>\n",
              "      <td>1520.805</td>\n",
              "      <td>0.00907</td>\n",
              "      <td>1520.130</td>\n",
              "      <td>1520.58</td>\n",
              "      <td>1519.8400</td>\n",
              "      <td>1520.560</td>\n",
              "    </tr>\n",
              "    <tr>\n",
              "      <th>2</th>\n",
              "      <td>2020.01.01 23:02:00</td>\n",
              "      <td>1520.285</td>\n",
              "      <td>1520.305</td>\n",
              "      <td>1520.035</td>\n",
              "      <td>1520.205</td>\n",
              "      <td>0.00640</td>\n",
              "      <td>1520.785</td>\n",
              "      <td>1520.795</td>\n",
              "      <td>1520.525</td>\n",
              "      <td>1520.695</td>\n",
              "      <td>0.00748</td>\n",
              "      <td>1520.535</td>\n",
              "      <td>1520.55</td>\n",
              "      <td>1520.2800</td>\n",
              "      <td>1520.450</td>\n",
              "    </tr>\n",
              "    <tr>\n",
              "      <th>3</th>\n",
              "      <td>2020.01.01 23:03:00</td>\n",
              "      <td>1520.185</td>\n",
              "      <td>1520.275</td>\n",
              "      <td>1520.015</td>\n",
              "      <td>1520.275</td>\n",
              "      <td>0.00390</td>\n",
              "      <td>1520.675</td>\n",
              "      <td>1520.765</td>\n",
              "      <td>1520.515</td>\n",
              "      <td>1520.765</td>\n",
              "      <td>0.00417</td>\n",
              "      <td>1520.430</td>\n",
              "      <td>1520.52</td>\n",
              "      <td>1520.2650</td>\n",
              "      <td>1520.520</td>\n",
              "    </tr>\n",
              "    <tr>\n",
              "      <th>4</th>\n",
              "      <td>2020.01.01 23:04:00</td>\n",
              "      <td>1520.325</td>\n",
              "      <td>1520.685</td>\n",
              "      <td>1520.195</td>\n",
              "      <td>1520.505</td>\n",
              "      <td>0.00767</td>\n",
              "      <td>1520.825</td>\n",
              "      <td>1521.175</td>\n",
              "      <td>1520.705</td>\n",
              "      <td>1520.985</td>\n",
              "      <td>0.00830</td>\n",
              "      <td>1520.575</td>\n",
              "      <td>1520.93</td>\n",
              "      <td>1520.4500</td>\n",
              "      <td>1520.745</td>\n",
              "    </tr>\n",
              "  </tbody>\n",
              "</table>\n",
              "</div>\n",
              "      <button class=\"colab-df-convert\" onclick=\"convertToInteractive('df-3c54e2d2-6bc5-4281-8598-d24b50a3ffa0')\"\n",
              "              title=\"Convert this dataframe to an interactive table.\"\n",
              "              style=\"display:none;\">\n",
              "        \n",
              "  <svg xmlns=\"http://www.w3.org/2000/svg\" height=\"24px\"viewBox=\"0 0 24 24\"\n",
              "       width=\"24px\">\n",
              "    <path d=\"M0 0h24v24H0V0z\" fill=\"none\"/>\n",
              "    <path d=\"M18.56 5.44l.94 2.06.94-2.06 2.06-.94-2.06-.94-.94-2.06-.94 2.06-2.06.94zm-11 1L8.5 8.5l.94-2.06 2.06-.94-2.06-.94L8.5 2.5l-.94 2.06-2.06.94zm10 10l.94 2.06.94-2.06 2.06-.94-2.06-.94-.94-2.06-.94 2.06-2.06.94z\"/><path d=\"M17.41 7.96l-1.37-1.37c-.4-.4-.92-.59-1.43-.59-.52 0-1.04.2-1.43.59L10.3 9.45l-7.72 7.72c-.78.78-.78 2.05 0 2.83L4 21.41c.39.39.9.59 1.41.59.51 0 1.02-.2 1.41-.59l7.78-7.78 2.81-2.81c.8-.78.8-2.07 0-2.86zM5.41 20L4 18.59l7.72-7.72 1.47 1.35L5.41 20z\"/>\n",
              "  </svg>\n",
              "      </button>\n",
              "      \n",
              "  <style>\n",
              "    .colab-df-container {\n",
              "      display:flex;\n",
              "      flex-wrap:wrap;\n",
              "      gap: 12px;\n",
              "    }\n",
              "\n",
              "    .colab-df-convert {\n",
              "      background-color: #E8F0FE;\n",
              "      border: none;\n",
              "      border-radius: 50%;\n",
              "      cursor: pointer;\n",
              "      display: none;\n",
              "      fill: #1967D2;\n",
              "      height: 32px;\n",
              "      padding: 0 0 0 0;\n",
              "      width: 32px;\n",
              "    }\n",
              "\n",
              "    .colab-df-convert:hover {\n",
              "      background-color: #E2EBFA;\n",
              "      box-shadow: 0px 1px 2px rgba(60, 64, 67, 0.3), 0px 1px 3px 1px rgba(60, 64, 67, 0.15);\n",
              "      fill: #174EA6;\n",
              "    }\n",
              "\n",
              "    [theme=dark] .colab-df-convert {\n",
              "      background-color: #3B4455;\n",
              "      fill: #D2E3FC;\n",
              "    }\n",
              "\n",
              "    [theme=dark] .colab-df-convert:hover {\n",
              "      background-color: #434B5C;\n",
              "      box-shadow: 0px 1px 3px 1px rgba(0, 0, 0, 0.15);\n",
              "      filter: drop-shadow(0px 1px 2px rgba(0, 0, 0, 0.3));\n",
              "      fill: #FFFFFF;\n",
              "    }\n",
              "  </style>\n",
              "\n",
              "      <script>\n",
              "        const buttonEl =\n",
              "          document.querySelector('#df-3c54e2d2-6bc5-4281-8598-d24b50a3ffa0 button.colab-df-convert');\n",
              "        buttonEl.style.display =\n",
              "          google.colab.kernel.accessAllowed ? 'block' : 'none';\n",
              "\n",
              "        async function convertToInteractive(key) {\n",
              "          const element = document.querySelector('#df-3c54e2d2-6bc5-4281-8598-d24b50a3ffa0');\n",
              "          const dataTable =\n",
              "            await google.colab.kernel.invokeFunction('convertToInteractive',\n",
              "                                                     [key], {});\n",
              "          if (!dataTable) return;\n",
              "\n",
              "          const docLinkHtml = 'Like what you see? Visit the ' +\n",
              "            '<a target=\"_blank\" href=https://colab.research.google.com/notebooks/data_table.ipynb>data table notebook</a>'\n",
              "            + ' to learn more about interactive tables.';\n",
              "          element.innerHTML = '';\n",
              "          dataTable['output_type'] = 'display_data';\n",
              "          await google.colab.output.renderOutput(dataTable, element);\n",
              "          const docLink = document.createElement('div');\n",
              "          docLink.innerHTML = docLinkHtml;\n",
              "          element.appendChild(docLink);\n",
              "        }\n",
              "      </script>\n",
              "    </div>\n",
              "  </div>\n",
              "  "
            ]
          },
          "metadata": {},
          "execution_count": 16
        }
      ]
    },
    {
      "cell_type": "markdown",
      "source": [
        "#### Date transformation"
      ],
      "metadata": {
        "id": "Jm5zPw04b5tF"
      }
    },
    {
      "cell_type": "code",
      "source": [
        "pd.to_datetime(['31/07/2017 22:00:00', 'test'], errors='coerce')\n",
        "\n",
        "df['Local_time_T'] = pd.to_datetime(df['Local time'], utc=True)\n",
        "\n",
        "print(df.dtypes)\n",
        "print(df.head(n=3)) "
      ],
      "metadata": {
        "colab": {
          "base_uri": "https://localhost:8080/"
        },
        "id": "ZiI50nE7b_0Z",
        "outputId": "78b82842-1127-40e2-85fb-ff6586aaeccf"
      },
      "execution_count": 17,
      "outputs": [
        {
          "output_type": "stream",
          "name": "stdout",
          "text": [
            "Local time                   object\n",
            "Open_Bid                    float64\n",
            "High_Bid                    float64\n",
            "Low_Bid                     float64\n",
            "Close_Bid                   float64\n",
            "Volume_Bid                  float64\n",
            "Open_Ask                    float64\n",
            "High_Ask                    float64\n",
            "Low_Ask                     float64\n",
            "Close_Ask                   float64\n",
            "Volume_Ask                  float64\n",
            "Open                        float64\n",
            "High                        float64\n",
            "Low                         float64\n",
            "Close                       float64\n",
            "Local_time_T    datetime64[ns, UTC]\n",
            "dtype: object\n",
            "            Local time  Open_Bid  High_Bid   Low_Bid  Close_Bid  Volume_Bid  \\\n",
            "0  2020.01.01 23:00:00  1518.768  1520.675  1518.768   1519.895     0.02014   \n",
            "1  2020.01.01 23:01:00  1519.875  1520.335  1519.595   1520.315     0.00880   \n",
            "2  2020.01.01 23:02:00  1520.285  1520.305  1520.035   1520.205     0.00640   \n",
            "\n",
            "   Open_Ask  High_Ask   Low_Ask  Close_Ask  Volume_Ask      Open     High  \\\n",
            "0  1519.592  1521.245  1519.435   1520.385     0.01987  1519.180  1520.96   \n",
            "1  1520.385  1520.825  1520.085   1520.805     0.00907  1520.130  1520.58   \n",
            "2  1520.785  1520.795  1520.525   1520.695     0.00748  1520.535  1520.55   \n",
            "\n",
            "         Low    Close              Local_time_T  \n",
            "0  1519.1015  1520.14 2020-01-01 23:00:00+00:00  \n",
            "1  1519.8400  1520.56 2020-01-01 23:01:00+00:00  \n",
            "2  1520.2800  1520.45 2020-01-01 23:02:00+00:00  \n"
          ]
        }
      ]
    },
    {
      "cell_type": "code",
      "source": [
        "df.info()"
      ],
      "metadata": {
        "colab": {
          "base_uri": "https://localhost:8080/"
        },
        "id": "bKqHMcFhcD19",
        "outputId": "b484e186-32f9-4a25-8ee2-172e716a6611"
      },
      "execution_count": 18,
      "outputs": [
        {
          "output_type": "stream",
          "name": "stdout",
          "text": [
            "<class 'pandas.core.frame.DataFrame'>\n",
            "RangeIndex: 9643 entries, 0 to 9642\n",
            "Data columns (total 16 columns):\n",
            " #   Column        Non-Null Count  Dtype              \n",
            "---  ------        --------------  -----              \n",
            " 0   Local time    9643 non-null   object             \n",
            " 1   Open_Bid      9643 non-null   float64            \n",
            " 2   High_Bid      9643 non-null   float64            \n",
            " 3   Low_Bid       9643 non-null   float64            \n",
            " 4   Close_Bid     9643 non-null   float64            \n",
            " 5   Volume_Bid    9643 non-null   float64            \n",
            " 6   Open_Ask      9643 non-null   float64            \n",
            " 7   High_Ask      9643 non-null   float64            \n",
            " 8   Low_Ask       9643 non-null   float64            \n",
            " 9   Close_Ask     9643 non-null   float64            \n",
            " 10  Volume_Ask    9642 non-null   float64            \n",
            " 11  Open          9643 non-null   float64            \n",
            " 12  High          9643 non-null   float64            \n",
            " 13  Low           9643 non-null   float64            \n",
            " 14  Close         9643 non-null   float64            \n",
            " 15  Local_time_T  9643 non-null   datetime64[ns, UTC]\n",
            "dtypes: datetime64[ns, UTC](1), float64(14), object(1)\n",
            "memory usage: 1.2+ MB\n"
          ]
        }
      ]
    },
    {
      "cell_type": "code",
      "source": [
        "data=df.drop(['Local time','Open_Bid','High_Bid','Low_Bid','Close_Bid','Open_Ask','High_Ask','Low_Ask','Close_Ask'],axis=1)"
      ],
      "metadata": {
        "id": "fj8JxdMJd64T"
      },
      "execution_count": 19,
      "outputs": []
    },
    {
      "cell_type": "code",
      "source": [
        "data.head()"
      ],
      "metadata": {
        "colab": {
          "base_uri": "https://localhost:8080/",
          "height": 206
        },
        "id": "HpfY2Yrud6-H",
        "outputId": "1bc737b4-3975-4fd0-9aa0-0e2c31591d25"
      },
      "execution_count": 20,
      "outputs": [
        {
          "output_type": "execute_result",
          "data": {
            "text/plain": [
              "   Volume_Bid  Volume_Ask      Open     High        Low     Close  \\\n",
              "0     0.02014     0.01987  1519.180  1520.96  1519.1015  1520.140   \n",
              "1     0.00880     0.00907  1520.130  1520.58  1519.8400  1520.560   \n",
              "2     0.00640     0.00748  1520.535  1520.55  1520.2800  1520.450   \n",
              "3     0.00390     0.00417  1520.430  1520.52  1520.2650  1520.520   \n",
              "4     0.00767     0.00830  1520.575  1520.93  1520.4500  1520.745   \n",
              "\n",
              "               Local_time_T  \n",
              "0 2020-01-01 23:00:00+00:00  \n",
              "1 2020-01-01 23:01:00+00:00  \n",
              "2 2020-01-01 23:02:00+00:00  \n",
              "3 2020-01-01 23:03:00+00:00  \n",
              "4 2020-01-01 23:04:00+00:00  "
            ],
            "text/html": [
              "\n",
              "  <div id=\"df-84c47464-ee63-4f1e-9c6b-fd0253fb395d\">\n",
              "    <div class=\"colab-df-container\">\n",
              "      <div>\n",
              "<style scoped>\n",
              "    .dataframe tbody tr th:only-of-type {\n",
              "        vertical-align: middle;\n",
              "    }\n",
              "\n",
              "    .dataframe tbody tr th {\n",
              "        vertical-align: top;\n",
              "    }\n",
              "\n",
              "    .dataframe thead th {\n",
              "        text-align: right;\n",
              "    }\n",
              "</style>\n",
              "<table border=\"1\" class=\"dataframe\">\n",
              "  <thead>\n",
              "    <tr style=\"text-align: right;\">\n",
              "      <th></th>\n",
              "      <th>Volume_Bid</th>\n",
              "      <th>Volume_Ask</th>\n",
              "      <th>Open</th>\n",
              "      <th>High</th>\n",
              "      <th>Low</th>\n",
              "      <th>Close</th>\n",
              "      <th>Local_time_T</th>\n",
              "    </tr>\n",
              "  </thead>\n",
              "  <tbody>\n",
              "    <tr>\n",
              "      <th>0</th>\n",
              "      <td>0.02014</td>\n",
              "      <td>0.01987</td>\n",
              "      <td>1519.180</td>\n",
              "      <td>1520.96</td>\n",
              "      <td>1519.1015</td>\n",
              "      <td>1520.140</td>\n",
              "      <td>2020-01-01 23:00:00+00:00</td>\n",
              "    </tr>\n",
              "    <tr>\n",
              "      <th>1</th>\n",
              "      <td>0.00880</td>\n",
              "      <td>0.00907</td>\n",
              "      <td>1520.130</td>\n",
              "      <td>1520.58</td>\n",
              "      <td>1519.8400</td>\n",
              "      <td>1520.560</td>\n",
              "      <td>2020-01-01 23:01:00+00:00</td>\n",
              "    </tr>\n",
              "    <tr>\n",
              "      <th>2</th>\n",
              "      <td>0.00640</td>\n",
              "      <td>0.00748</td>\n",
              "      <td>1520.535</td>\n",
              "      <td>1520.55</td>\n",
              "      <td>1520.2800</td>\n",
              "      <td>1520.450</td>\n",
              "      <td>2020-01-01 23:02:00+00:00</td>\n",
              "    </tr>\n",
              "    <tr>\n",
              "      <th>3</th>\n",
              "      <td>0.00390</td>\n",
              "      <td>0.00417</td>\n",
              "      <td>1520.430</td>\n",
              "      <td>1520.52</td>\n",
              "      <td>1520.2650</td>\n",
              "      <td>1520.520</td>\n",
              "      <td>2020-01-01 23:03:00+00:00</td>\n",
              "    </tr>\n",
              "    <tr>\n",
              "      <th>4</th>\n",
              "      <td>0.00767</td>\n",
              "      <td>0.00830</td>\n",
              "      <td>1520.575</td>\n",
              "      <td>1520.93</td>\n",
              "      <td>1520.4500</td>\n",
              "      <td>1520.745</td>\n",
              "      <td>2020-01-01 23:04:00+00:00</td>\n",
              "    </tr>\n",
              "  </tbody>\n",
              "</table>\n",
              "</div>\n",
              "      <button class=\"colab-df-convert\" onclick=\"convertToInteractive('df-84c47464-ee63-4f1e-9c6b-fd0253fb395d')\"\n",
              "              title=\"Convert this dataframe to an interactive table.\"\n",
              "              style=\"display:none;\">\n",
              "        \n",
              "  <svg xmlns=\"http://www.w3.org/2000/svg\" height=\"24px\"viewBox=\"0 0 24 24\"\n",
              "       width=\"24px\">\n",
              "    <path d=\"M0 0h24v24H0V0z\" fill=\"none\"/>\n",
              "    <path d=\"M18.56 5.44l.94 2.06.94-2.06 2.06-.94-2.06-.94-.94-2.06-.94 2.06-2.06.94zm-11 1L8.5 8.5l.94-2.06 2.06-.94-2.06-.94L8.5 2.5l-.94 2.06-2.06.94zm10 10l.94 2.06.94-2.06 2.06-.94-2.06-.94-.94-2.06-.94 2.06-2.06.94z\"/><path d=\"M17.41 7.96l-1.37-1.37c-.4-.4-.92-.59-1.43-.59-.52 0-1.04.2-1.43.59L10.3 9.45l-7.72 7.72c-.78.78-.78 2.05 0 2.83L4 21.41c.39.39.9.59 1.41.59.51 0 1.02-.2 1.41-.59l7.78-7.78 2.81-2.81c.8-.78.8-2.07 0-2.86zM5.41 20L4 18.59l7.72-7.72 1.47 1.35L5.41 20z\"/>\n",
              "  </svg>\n",
              "      </button>\n",
              "      \n",
              "  <style>\n",
              "    .colab-df-container {\n",
              "      display:flex;\n",
              "      flex-wrap:wrap;\n",
              "      gap: 12px;\n",
              "    }\n",
              "\n",
              "    .colab-df-convert {\n",
              "      background-color: #E8F0FE;\n",
              "      border: none;\n",
              "      border-radius: 50%;\n",
              "      cursor: pointer;\n",
              "      display: none;\n",
              "      fill: #1967D2;\n",
              "      height: 32px;\n",
              "      padding: 0 0 0 0;\n",
              "      width: 32px;\n",
              "    }\n",
              "\n",
              "    .colab-df-convert:hover {\n",
              "      background-color: #E2EBFA;\n",
              "      box-shadow: 0px 1px 2px rgba(60, 64, 67, 0.3), 0px 1px 3px 1px rgba(60, 64, 67, 0.15);\n",
              "      fill: #174EA6;\n",
              "    }\n",
              "\n",
              "    [theme=dark] .colab-df-convert {\n",
              "      background-color: #3B4455;\n",
              "      fill: #D2E3FC;\n",
              "    }\n",
              "\n",
              "    [theme=dark] .colab-df-convert:hover {\n",
              "      background-color: #434B5C;\n",
              "      box-shadow: 0px 1px 3px 1px rgba(0, 0, 0, 0.15);\n",
              "      filter: drop-shadow(0px 1px 2px rgba(0, 0, 0, 0.3));\n",
              "      fill: #FFFFFF;\n",
              "    }\n",
              "  </style>\n",
              "\n",
              "      <script>\n",
              "        const buttonEl =\n",
              "          document.querySelector('#df-84c47464-ee63-4f1e-9c6b-fd0253fb395d button.colab-df-convert');\n",
              "        buttonEl.style.display =\n",
              "          google.colab.kernel.accessAllowed ? 'block' : 'none';\n",
              "\n",
              "        async function convertToInteractive(key) {\n",
              "          const element = document.querySelector('#df-84c47464-ee63-4f1e-9c6b-fd0253fb395d');\n",
              "          const dataTable =\n",
              "            await google.colab.kernel.invokeFunction('convertToInteractive',\n",
              "                                                     [key], {});\n",
              "          if (!dataTable) return;\n",
              "\n",
              "          const docLinkHtml = 'Like what you see? Visit the ' +\n",
              "            '<a target=\"_blank\" href=https://colab.research.google.com/notebooks/data_table.ipynb>data table notebook</a>'\n",
              "            + ' to learn more about interactive tables.';\n",
              "          element.innerHTML = '';\n",
              "          dataTable['output_type'] = 'display_data';\n",
              "          await google.colab.output.renderOutput(dataTable, element);\n",
              "          const docLink = document.createElement('div');\n",
              "          docLink.innerHTML = docLinkHtml;\n",
              "          element.appendChild(docLink);\n",
              "        }\n",
              "      </script>\n",
              "    </div>\n",
              "  </div>\n",
              "  "
            ]
          },
          "metadata": {},
          "execution_count": 20
        }
      ]
    },
    {
      "cell_type": "code",
      "source": [],
      "metadata": {
        "id": "3sLoF-gvdU6B"
      },
      "execution_count": 20,
      "outputs": []
    },
    {
      "cell_type": "code",
      "source": [
        "data = data.drop('Local_time_T',axis=1)"
      ],
      "metadata": {
        "id": "Gzpk4URjcxRU"
      },
      "execution_count": 21,
      "outputs": []
    },
    {
      "cell_type": "code",
      "source": [
        "print(data.head(n=3)) "
      ],
      "metadata": {
        "colab": {
          "base_uri": "https://localhost:8080/"
        },
        "id": "LFeStsERc0JX",
        "outputId": "b0465252-b481-4f8d-dbdc-b06af9786833"
      },
      "execution_count": 22,
      "outputs": [
        {
          "output_type": "stream",
          "name": "stdout",
          "text": [
            "   Volume_Bid  Volume_Ask      Open     High        Low    Close\n",
            "0     0.02014     0.01987  1519.180  1520.96  1519.1015  1520.14\n",
            "1     0.00880     0.00907  1520.130  1520.58  1519.8400  1520.56\n",
            "2     0.00640     0.00748  1520.535  1520.55  1520.2800  1520.45\n"
          ]
        }
      ]
    },
    {
      "cell_type": "markdown",
      "source": [
        "#### Normalisation"
      ],
      "metadata": {
        "id": "ZeRF6gzWc4dZ"
      }
    },
    {
      "cell_type": "code",
      "source": [
        "\n",
        "#normalization\n",
        "#data=(data-data.min())/(data.max()-data.min())"
      ],
      "metadata": {
        "id": "_PGAqNpNdEQa"
      },
      "execution_count": 23,
      "outputs": []
    },
    {
      "cell_type": "code",
      "source": [
        "data.head()"
      ],
      "metadata": {
        "colab": {
          "base_uri": "https://localhost:8080/",
          "height": 206
        },
        "id": "d74Z46MldHjD",
        "outputId": "336cb734-3239-41e6-a1be-d1ad5dff1e9a"
      },
      "execution_count": 24,
      "outputs": [
        {
          "output_type": "execute_result",
          "data": {
            "text/plain": [
              "   Volume_Bid  Volume_Ask      Open      High       Low     Close\n",
              "0    0.055088    0.049953  0.012380  0.028740  0.019936  0.890108\n",
              "1    0.024070    0.022802  0.022651  0.024665  0.027903  0.890619\n",
              "2    0.017505    0.018805  0.027030  0.024344  0.032650  0.890485\n",
              "3    0.010667    0.010483  0.025895  0.024022  0.032488  0.890570\n",
              "4    0.020979    0.020866  0.027463  0.028419  0.034484  0.890844"
            ],
            "text/html": [
              "\n",
              "  <div id=\"df-bdb43ccf-ed06-4813-9dc2-9439d4ae22c8\">\n",
              "    <div class=\"colab-df-container\">\n",
              "      <div>\n",
              "<style scoped>\n",
              "    .dataframe tbody tr th:only-of-type {\n",
              "        vertical-align: middle;\n",
              "    }\n",
              "\n",
              "    .dataframe tbody tr th {\n",
              "        vertical-align: top;\n",
              "    }\n",
              "\n",
              "    .dataframe thead th {\n",
              "        text-align: right;\n",
              "    }\n",
              "</style>\n",
              "<table border=\"1\" class=\"dataframe\">\n",
              "  <thead>\n",
              "    <tr style=\"text-align: right;\">\n",
              "      <th></th>\n",
              "      <th>Volume_Bid</th>\n",
              "      <th>Volume_Ask</th>\n",
              "      <th>Open</th>\n",
              "      <th>High</th>\n",
              "      <th>Low</th>\n",
              "      <th>Close</th>\n",
              "    </tr>\n",
              "  </thead>\n",
              "  <tbody>\n",
              "    <tr>\n",
              "      <th>0</th>\n",
              "      <td>0.055088</td>\n",
              "      <td>0.049953</td>\n",
              "      <td>0.012380</td>\n",
              "      <td>0.028740</td>\n",
              "      <td>0.019936</td>\n",
              "      <td>0.890108</td>\n",
              "    </tr>\n",
              "    <tr>\n",
              "      <th>1</th>\n",
              "      <td>0.024070</td>\n",
              "      <td>0.022802</td>\n",
              "      <td>0.022651</td>\n",
              "      <td>0.024665</td>\n",
              "      <td>0.027903</td>\n",
              "      <td>0.890619</td>\n",
              "    </tr>\n",
              "    <tr>\n",
              "      <th>2</th>\n",
              "      <td>0.017505</td>\n",
              "      <td>0.018805</td>\n",
              "      <td>0.027030</td>\n",
              "      <td>0.024344</td>\n",
              "      <td>0.032650</td>\n",
              "      <td>0.890485</td>\n",
              "    </tr>\n",
              "    <tr>\n",
              "      <th>3</th>\n",
              "      <td>0.010667</td>\n",
              "      <td>0.010483</td>\n",
              "      <td>0.025895</td>\n",
              "      <td>0.024022</td>\n",
              "      <td>0.032488</td>\n",
              "      <td>0.890570</td>\n",
              "    </tr>\n",
              "    <tr>\n",
              "      <th>4</th>\n",
              "      <td>0.020979</td>\n",
              "      <td>0.020866</td>\n",
              "      <td>0.027463</td>\n",
              "      <td>0.028419</td>\n",
              "      <td>0.034484</td>\n",
              "      <td>0.890844</td>\n",
              "    </tr>\n",
              "  </tbody>\n",
              "</table>\n",
              "</div>\n",
              "      <button class=\"colab-df-convert\" onclick=\"convertToInteractive('df-bdb43ccf-ed06-4813-9dc2-9439d4ae22c8')\"\n",
              "              title=\"Convert this dataframe to an interactive table.\"\n",
              "              style=\"display:none;\">\n",
              "        \n",
              "  <svg xmlns=\"http://www.w3.org/2000/svg\" height=\"24px\"viewBox=\"0 0 24 24\"\n",
              "       width=\"24px\">\n",
              "    <path d=\"M0 0h24v24H0V0z\" fill=\"none\"/>\n",
              "    <path d=\"M18.56 5.44l.94 2.06.94-2.06 2.06-.94-2.06-.94-.94-2.06-.94 2.06-2.06.94zm-11 1L8.5 8.5l.94-2.06 2.06-.94-2.06-.94L8.5 2.5l-.94 2.06-2.06.94zm10 10l.94 2.06.94-2.06 2.06-.94-2.06-.94-.94-2.06-.94 2.06-2.06.94z\"/><path d=\"M17.41 7.96l-1.37-1.37c-.4-.4-.92-.59-1.43-.59-.52 0-1.04.2-1.43.59L10.3 9.45l-7.72 7.72c-.78.78-.78 2.05 0 2.83L4 21.41c.39.39.9.59 1.41.59.51 0 1.02-.2 1.41-.59l7.78-7.78 2.81-2.81c.8-.78.8-2.07 0-2.86zM5.41 20L4 18.59l7.72-7.72 1.47 1.35L5.41 20z\"/>\n",
              "  </svg>\n",
              "      </button>\n",
              "      \n",
              "  <style>\n",
              "    .colab-df-container {\n",
              "      display:flex;\n",
              "      flex-wrap:wrap;\n",
              "      gap: 12px;\n",
              "    }\n",
              "\n",
              "    .colab-df-convert {\n",
              "      background-color: #E8F0FE;\n",
              "      border: none;\n",
              "      border-radius: 50%;\n",
              "      cursor: pointer;\n",
              "      display: none;\n",
              "      fill: #1967D2;\n",
              "      height: 32px;\n",
              "      padding: 0 0 0 0;\n",
              "      width: 32px;\n",
              "    }\n",
              "\n",
              "    .colab-df-convert:hover {\n",
              "      background-color: #E2EBFA;\n",
              "      box-shadow: 0px 1px 2px rgba(60, 64, 67, 0.3), 0px 1px 3px 1px rgba(60, 64, 67, 0.15);\n",
              "      fill: #174EA6;\n",
              "    }\n",
              "\n",
              "    [theme=dark] .colab-df-convert {\n",
              "      background-color: #3B4455;\n",
              "      fill: #D2E3FC;\n",
              "    }\n",
              "\n",
              "    [theme=dark] .colab-df-convert:hover {\n",
              "      background-color: #434B5C;\n",
              "      box-shadow: 0px 1px 3px 1px rgba(0, 0, 0, 0.15);\n",
              "      filter: drop-shadow(0px 1px 2px rgba(0, 0, 0, 0.3));\n",
              "      fill: #FFFFFF;\n",
              "    }\n",
              "  </style>\n",
              "\n",
              "      <script>\n",
              "        const buttonEl =\n",
              "          document.querySelector('#df-bdb43ccf-ed06-4813-9dc2-9439d4ae22c8 button.colab-df-convert');\n",
              "        buttonEl.style.display =\n",
              "          google.colab.kernel.accessAllowed ? 'block' : 'none';\n",
              "\n",
              "        async function convertToInteractive(key) {\n",
              "          const element = document.querySelector('#df-bdb43ccf-ed06-4813-9dc2-9439d4ae22c8');\n",
              "          const dataTable =\n",
              "            await google.colab.kernel.invokeFunction('convertToInteractive',\n",
              "                                                     [key], {});\n",
              "          if (!dataTable) return;\n",
              "\n",
              "          const docLinkHtml = 'Like what you see? Visit the ' +\n",
              "            '<a target=\"_blank\" href=https://colab.research.google.com/notebooks/data_table.ipynb>data table notebook</a>'\n",
              "            + ' to learn more about interactive tables.';\n",
              "          element.innerHTML = '';\n",
              "          dataTable['output_type'] = 'display_data';\n",
              "          await google.colab.output.renderOutput(dataTable, element);\n",
              "          const docLink = document.createElement('div');\n",
              "          docLink.innerHTML = docLinkHtml;\n",
              "          element.appendChild(docLink);\n",
              "        }\n",
              "      </script>\n",
              "    </div>\n",
              "  </div>\n",
              "  "
            ]
          },
          "metadata": {},
          "execution_count": 24
        }
      ]
    },
    {
      "cell_type": "code",
      "source": [
        "print(data.head(n=5))\n",
        "print(data[-5:])"
      ],
      "metadata": {
        "colab": {
          "base_uri": "https://localhost:8080/"
        },
        "id": "Ph4EJOHOdOfX",
        "outputId": "d41a2b88-757f-4685-f77f-45f05e6338f5"
      },
      "execution_count": 25,
      "outputs": [
        {
          "output_type": "stream",
          "name": "stdout",
          "text": [
            "   Volume_Bid  Volume_Ask      Open      High       Low     Close\n",
            "0    0.055088    0.049953  0.012380  0.028740  0.019936  0.890108\n",
            "1    0.024070    0.022802  0.022651  0.024665  0.027903  0.890619\n",
            "2    0.017505    0.018805  0.027030  0.024344  0.032650  0.890485\n",
            "3    0.010667    0.010483  0.025895  0.024022  0.032488  0.890570\n",
            "4    0.020979    0.020866  0.027463  0.028419  0.034484  0.890844\n",
            "      Volume_Bid  Volume_Ask      Open      High       Low     Close\n",
            "9638    0.096827    0.030269  0.468220  0.468120  0.475231  0.940837\n",
            "9639    0.075684    0.041029  0.473302  0.468603  0.478143  0.940669\n",
            "9640    0.137992    0.067702  0.472075  0.475718  0.478952  0.941620\n",
            "9641    0.154376    0.046258  0.480384  0.477434  0.483953  0.941991\n",
            "9642    0.108835         NaN  0.483682  0.481509  0.488878  0.000000\n"
          ]
        }
      ]
    },
    {
      "cell_type": "code",
      "source": [
        "data.info()"
      ],
      "metadata": {
        "colab": {
          "base_uri": "https://localhost:8080/"
        },
        "id": "gTL3Ac0WdR_i",
        "outputId": "b194cfe0-1605-4cdd-a1fe-434e8341d029"
      },
      "execution_count": 26,
      "outputs": [
        {
          "output_type": "stream",
          "name": "stdout",
          "text": [
            "<class 'pandas.core.frame.DataFrame'>\n",
            "RangeIndex: 9643 entries, 0 to 9642\n",
            "Data columns (total 6 columns):\n",
            " #   Column      Non-Null Count  Dtype  \n",
            "---  ------      --------------  -----  \n",
            " 0   Volume_Bid  9643 non-null   float64\n",
            " 1   Volume_Ask  9642 non-null   float64\n",
            " 2   Open        9643 non-null   float64\n",
            " 3   High        9643 non-null   float64\n",
            " 4   Low         9643 non-null   float64\n",
            " 5   Close       9643 non-null   float64\n",
            "dtypes: float64(6)\n",
            "memory usage: 452.1 KB\n"
          ]
        }
      ]
    },
    {
      "cell_type": "code",
      "source": [
        "#downsizing\n",
        "data['Volume_Bid']=pd.to_numeric(data['Volume_Bid'],downcast='float')\n",
        "data['Volume_Ask']=pd.to_numeric(data['Volume_Ask'],downcast='float')\n",
        "data['Open']=pd.to_numeric(data['Open'],downcast='float')\n",
        "data['High']=pd.to_numeric(data['High'],downcast='float')\n",
        "data['Low']=pd.to_numeric(data['Low'],downcast='float')\n",
        "data['Close']=pd.to_numeric(data['Close'],downcast='float')\n",
        "data.info()"
      ],
      "metadata": {
        "colab": {
          "base_uri": "https://localhost:8080/"
        },
        "id": "izE4vHkxdWKd",
        "outputId": "1bf8e3cc-eef6-4b71-c6c5-aaa6997f9e9f"
      },
      "execution_count": 27,
      "outputs": [
        {
          "output_type": "stream",
          "name": "stdout",
          "text": [
            "<class 'pandas.core.frame.DataFrame'>\n",
            "RangeIndex: 9643 entries, 0 to 9642\n",
            "Data columns (total 6 columns):\n",
            " #   Column      Non-Null Count  Dtype  \n",
            "---  ------      --------------  -----  \n",
            " 0   Volume_Bid  9643 non-null   float32\n",
            " 1   Volume_Ask  9642 non-null   float32\n",
            " 2   Open        9643 non-null   float32\n",
            " 3   High        9643 non-null   float32\n",
            " 4   Low         9643 non-null   float32\n",
            " 5   Close       9643 non-null   float32\n",
            "dtypes: float32(6)\n",
            "memory usage: 226.1 KB\n"
          ]
        }
      ]
    },
    {
      "cell_type": "code",
      "source": [
        "#visualization\n",
        "import matplotlib.pyplot as plt\n",
        "%matplotlib inline"
      ],
      "metadata": {
        "id": "srTsEqcXdY0y"
      },
      "execution_count": 28,
      "outputs": []
    },
    {
      "cell_type": "code",
      "source": [
        "plt.figure(num=1,figsize=(15,7))\n",
        "plt.hist(data['Volume_Ask'],bins=100)\n",
        "plt.title('Ask volume distribution',size=18)\n",
        "plt.ylabel('Numbers',size=14)\n",
        "plt.xlabel('Volume,mln lots',size=14);"
      ],
      "metadata": {
        "colab": {
          "base_uri": "https://localhost:8080/",
          "height": 466
        },
        "id": "8anQymwCdbOl",
        "outputId": "2fbf0051-d07b-4567-d015-2b4872022b33"
      },
      "execution_count": 29,
      "outputs": [
        {
          "output_type": "display_data",
          "data": {
            "text/plain": [
              "<Figure size 1080x504 with 1 Axes>"
            ],
            "image/png": "[encoded data removed]"
          },
          "metadata": {
            "needs_background": "light"
          }
        }
      ]
    },
    {
      "cell_type": "code",
      "source": [
        "n=data.shape[0]\n",
        "p=data.shape[1]"
      ],
      "metadata": {
        "id": "T_C7z4Z0debC"
      },
      "execution_count": 30,
      "outputs": []
    },
    {
      "cell_type": "code",
      "source": [
        "print('Rows number is ',n)"
      ],
      "metadata": {
        "colab": {
          "base_uri": "https://localhost:8080/"
        },
        "id": "4IXKLHopdhH8",
        "outputId": "aef73e39-a2cb-4383-9a50-03ab54163ec2"
      },
      "execution_count": 31,
      "outputs": [
        {
          "output_type": "stream",
          "name": "stdout",
          "text": [
            "Rows number is  9643\n"
          ]
        }
      ]
    },
    {
      "cell_type": "code",
      "source": [
        "data['Open'].plot(figsize=(15,6))"
      ],
      "metadata": {
        "colab": {
          "base_uri": "https://localhost:8080/",
          "height": 392
        },
        "id": "XHQnsy3kgQ6o",
        "outputId": "7c559026-c27a-4f41-85a4-50d1334c43b0"
      },
      "execution_count": 32,
      "outputs": [
        {
          "output_type": "execute_result",
          "data": {
            "text/plain": [
              "<matplotlib.axes._subplots.AxesSubplot at 0x7f62b188f650>"
            ]
          },
          "metadata": {},
          "execution_count": 32
        },
        {
          "output_type": "display_data",
          "data": {
            "text/plain": [
              "<Figure size 1080x432 with 1 Axes>"
            ],
            "image/png": "[encoded data removed]"
          },
          "metadata": {
            "needs_background": "light"
          }
        }
      ]
    },
    {
      "cell_type": "code",
      "source": [
        "plt.figure(figsize=(16,8))\n",
        "plt.title('historical price')\n",
        "plt.plot(df['Close'])\n",
        "plt.xlabel('Time', fontsize=18)\n",
        "plt.ylabel('Close_Price', fontsize=18)\n",
        "plt.show()"
      ],
      "metadata": {
        "colab": {
          "base_uri": "https://localhost:8080/",
          "height": 521
        },
        "id": "Yk73R5u0gRzp",
        "outputId": "edc8f007-b2d0-4ec0-a324-26a7ff063bb3"
      },
      "execution_count": 33,
      "outputs": [
        {
          "output_type": "display_data",
          "data": {
            "text/plain": [
              "<Figure size 1152x576 with 1 Axes>"
            ],
            "image/png": "[encoded data removed]"
          },
          "metadata": {
            "needs_background": "light"
          }
        }
      ]
    },
    {
      "cell_type": "code",
      "source": [
        "data_mini = data.iloc[-100:] # Select recent data rows\n",
        "import plotly.graph_objects as go\n",
        "\n",
        "fig = go.Figure(data=[go.Candlestick(x=data_mini.index, open=data_mini['Open'], high=data_mini['High'], low=data_mini['Low'], close=data_mini['Close'])])\n",
        "fig.show()\n"
      ],
      "metadata": {
        "colab": {
          "base_uri": "https://localhost:8080/",
          "height": 542
        },
        "id": "WEMGi4rAgR2V",
        "outputId": "d1bd289b-1ccc-4c86-80a2-c73a25b0ebaf"
      },
      "execution_count": 34,
      "outputs": [
        {
          "output_type": "display_data",
          "data": {
            "text/html": [
              "<html>\n",
              "<head><meta charset=\"utf-8\" /></head>\n",
              "<body>\n",
              "    <div>            <script src=\"https://cdnjs.cloudflare.com/ajax/libs/mathjax/2.7.5/MathJax.js?config=TeX-AMS-MML_SVG\"></script><script type=\"text/javascript\">if (window.MathJax) {MathJax.Hub.Config({SVG: {font: \"STIX-Web\"}});}</script>                <script type=\"text/javascript\">window.PlotlyConfig = {MathJaxConfig: 'local'};</script>\n",
              "        <script src=\"https://cdn.plot.ly/plotly-2.8.3.min.js\"></script>                <div id=\"7d410a54-7c6b-486e-9827-da0391de25f3\" class=\"plotly-graph-div\" style=\"height:525px; width:100%;\"></div>            <script type=\"text/javascript\">                                    window.PLOTLYENV=window.PLOTLYENV || {};                                    if (document.getElementById(\"7d410a54-7c6b-486e-9827-da0391de25f3\")) {                    Plotly.newPlot(                        \"7d410a54-7c6b-486e-9827-da0391de25f3\",                        [{\"close\":[0.9373527765274048,0.9374033212661743,0.9377665519714355,0.9376831650733948,0.9379734396934509,0.9380056858062744,0.9378882646560669,0.9379369020462036,0.9379247426986694,0.9376813769340515,0.9377866387367249,0.937796950340271,0.9382776618003845,0.9382672905921936,0.9383385181427002,0.938395082950592,0.9383019804954529,0.9385271072387695,0.9386366605758667,0.9380890130996704,0.9382046461105347,0.9382490515708923,0.9383646845817566,0.9382794499397278,0.9382186532020569,0.9381803274154663,0.938395082950592,0.9386852979660034,0.9389141201972961,0.9387559294700623,0.938908040523529,0.9392955899238586,0.9388106465339661,0.9387620091438293,0.9388106465339661,0.9388228058815002,0.9389670491218567,0.9387522339820862,0.9390522241592407,0.939338207244873,0.9388574957847595,0.9389566779136658,0.9388514161109924,0.9388411045074463,0.9387297630310059,0.9388350248336792,0.9391605257987976,0.9388593435287476,0.9388088583946228,0.9388800263404846,0.9387279152870178,0.9387522339820862,0.9385654330253601,0.9385271072387695,0.9385289549827576,0.939070463180542,0.9390053749084473,0.9392517805099487,0.9393807649612427,0.9396241903305054,0.9397458434104919,0.9397458434104919,0.9399892687797546,0.9398614764213562,0.9399892687797546,0.9398432374000549,0.9397355318069458,0.9395937323570251,0.9397154450416565,0.9397154450416565,0.9398371577262878,0.9399040937423706,0.939764142036438,0.9397014379501343,0.9397154450416565,0.9396953582763672,0.9399405717849731,0.9399466514587402,0.9399588108062744,0.9399405717849731,0.939928412437439,0.9398249983787537,0.9397093653678894,0.9395876526832581,0.9398371577262878,0.9397580623626709,0.9398006200790405,0.9396606683731079,0.9397032856941223,0.9398371577262878,0.9397884607315063,0.9402083158493042,0.9400501251220703,0.9399648904800415,0.9402265548706055,0.9408368468284607,0.9406688809394836,0.9416199326515198,0.9419910907745361,0.0],\"high\":[0.4370579719543457,0.43673625588417053,0.44016793370246887,0.44016793370246887,0.44176045060157776,0.44241997599601746,0.44225913286209106,0.4422055184841156,0.44215187430381775,0.4413851201534271,0.4403127133846283,0.44218942523002625,0.44551387429237366,0.4452618658542633,0.44497767090797424,0.4456211030483246,0.44551387429237366,0.4466935098171234,0.44803401827812195,0.4471224844455719,0.44428059458732605,0.44438785314559937,0.44536909461021423,0.44531548023223877,0.4451009929180145,0.4446023404598236,0.44567471742630005,0.44803401827812195,0.4502646028995514,0.45042547583580017,0.45031824707984924,0.45341211557388306,0.4527311325073242,0.45015737414360046,0.4502646028995514,0.4502109885215759,0.450731098651886,0.4503021538257599,0.4512673020362854,0.4537874460220337,0.45380353927612305,0.4504629969596863,0.4512673020362854,0.4503718614578247,0.4495139420032501,0.4494066834449768,0.45225927233695984,0.45275795459747314,0.4501948952674866,0.4497498571872711,0.450715035200119,0.44985711574554443,0.448945552110672,0.44776591658592224,0.4466935098171234,0.45295634865760803,0.451953649520874,0.45302605628967285,0.4541628062725067,0.45632368326187134,0.4573799967765808,0.4573799967765808,0.45952481031417847,0.4611334204673767,0.4595945179462433,0.45952481031417847,0.45818430185317993,0.45771780610084534,0.4576480984687805,0.45716553926467896,0.45818430185317993,0.45925670862197876,0.45818430185317993,0.45752477645874023,0.4571119248867035,0.4571119248867035,0.4592406451702118,0.45914947986602783,0.45925670862197876,0.4592728018760681,0.45909586548805237,0.4590422511100769,0.45818430185317993,0.4570046663284302,0.45818430185317993,0.45818430185317993,0.4579162001609802,0.45925670862197876,0.4570046663284302,0.45818430185317993,0.45786258578300476,0.4619913399219513,0.4616696238517761,0.4600073993206024,0.4624203145503998,0.46812012791633606,0.46860271692276,0.47571811079978943,0.4774339497089386,0.48150908946990967],\"low\":[0.4494471251964569,0.4486757516860962,0.450471967458725,0.452899307012558,0.452775239944458,0.45504072308540344,0.45450133085250854,0.45466315746307373,0.45392414927482605,0.45288312435150146,0.45207399129867554,0.45288312435150146,0.45320674777030945,0.45595771074295044,0.4571983516216278,0.4581153392791748,0.4579535126686096,0.4569825828075409,0.4596256613731384,0.45649710297584534,0.45687469840049744,0.4569825828075409,0.45796969532966614,0.45816925168037415,0.45725229382514954,0.45685312151908875,0.4573763310909271,0.4587787985801697,0.4608285129070282,0.46203139424324036,0.46240898966789246,0.4638114273548126,0.4619235098361969,0.4623550474643707,0.4621392786502838,0.46273261308670044,0.4617994427680969,0.462177038192749,0.4621608555316925,0.4643184542655945,0.4632558524608612,0.4619990289211273,0.4632558524608612,0.46277037262916565,0.4621608555316925,0.4612438678741455,0.46203139424324036,0.46201521158218384,0.46167537569999695,0.46219322085380554,0.46189114451408386,0.4614056944847107,0.45967960357666016,0.45946383476257324,0.4586547315120697,0.4601272940635681,0.4632019102573395,0.4645504057407379,0.46653541922569275,0.4676627516746521,0.4701062738895416,0.46902745962142944,0.4709693193435669,0.4722099304199219,0.4719240665435791,0.47086143493652344,0.469836562871933,0.4692971706390381,0.4697286784648895,0.469836562871933,0.4705917239189148,0.4718863070011139,0.4708452522754669,0.4698743224143982,0.4704676568508148,0.4702518880367279,0.47068342566490173,0.47194021940231323,0.4730190336704254,0.47231781482696533,0.4722099304199219,0.4718863070011139,0.47068342566490173,0.46978262066841125,0.47032201290130615,0.4709693193435669,0.4711850583553314,0.46982038021087646,0.4704298973083496,0.47048383951187134,0.4709693193435669,0.47089919447898865,0.4738820791244507,0.4722638726234436,0.47307297587394714,0.4752306044101715,0.4781433641910553,0.47895246744155884,0.48395276069641113,0.4888775050640106],\"open\":[0.4432280659675598,0.4427577555179596,0.443028062582016,0.4464338719844818,0.44555267691612244,0.44838008284568787,0.44843414425849915,0.4472285807132721,0.4477691948413849,0.4474988877773285,0.44549861550331116,0.44679608941078186,0.4463635981082916,0.45079657435417175,0.45075875520706177,0.45182374119758606,0.45162370800971985,0.45079657435417175,0.45290496945381165,0.45344555377960205,0.44949913024902344,0.44998568296432495,0.4506343901157379,0.45112094283103943,0.4509046971797943,0.45005595684051514,0.4499478340148926,0.4515858590602875,0.45425647497177124,0.4565594494342804,0.45509982109069824,0.4565054178237915,0.45904627442359924,0.4554620385169983,0.4549916982650757,0.45558637380599976,0.45564043521881104,0.45665135979652405,0.45535391569137573,0.45760825276374817,0.4601815342903137,0.45587828755378723,0.4567054212093353,0.45609453320503235,0.4558026194572449,0.45474302768707275,0.45584046840667725,0.45889487862586975,0.4557323455810547,0.45551609992980957,0.4565432369709015,0.45479708909988403,0.45452678203582764,0.45339149236679077,0.4530130624771118,0.4530130624771118,0.4578407108783722,0.45713791251182556,0.4591273367404938,0.4604896903038025,0.46276023983955383,0.46319273114204407,0.4637333154678345,0.4667607247829437,0.46458208560943604,0.46562546491622925,0.4645063877105713,0.4638252258300781,0.4623818099498749,0.46319273114204407,0.4634251892566681,0.4646685719490051,0.46459829807281494,0.4639333486557007,0.46351709961891174,0.4633927345275879,0.46328461170196533,0.4654632806777954,0.4656795263290405,0.46557140350341797,0.465192973613739,0.46535515785217285,0.46454423666000366,0.4634089767932892,0.46292242407798767,0.46432799100875854,0.4639495611190796,0.46404147148132324,0.4631224274635315,0.4633549153804779,0.46427392959594727,0.46404147148132324,0.4678581655025482,0.46643635630607605,0.4656795263290405,0.46822038292884827,0.47330209612846375,0.4720748960971832,0.48038405179977417,0.4836817681789398],\"x\":[9543,9544,9545,9546,9547,9548,9549,9550,9551,9552,9553,9554,9555,9556,9557,9558,9559,9560,9561,9562,9563,9564,9565,9566,9567,9568,9569,9570,9571,9572,9573,9574,9575,9576,9577,9578,9579,9580,9581,9582,9583,9584,9585,9586,9587,9588,9589,9590,9591,9592,9593,9594,9595,9596,9597,9598,9599,9600,9601,9602,9603,9604,9605,9606,9607,9608,9609,9610,9611,9612,9613,9614,9615,9616,9617,9618,9619,9620,9621,9622,9623,9624,9625,9626,9627,9628,9629,9630,9631,9632,9633,9634,9635,9636,9637,9638,9639,9640,9641,9642],\"type\":\"candlestick\"}],                        {\"template\":{\"data\":{\"bar\":[{\"error_x\":{\"color\":\"#2a3f5f\"},\"error_y\":{\"color\":\"#2a3f5f\"},\"marker\":{\"line\":{\"color\":\"#E5ECF6\",\"width\":0.5},\"pattern\":{\"fillmode\":\"overlay\",\"size\":10,\"solidity\":0.2}},\"type\":\"bar\"}],\"barpolar\":[{\"marker\":{\"line\":{\"color\":\"#E5ECF6\",\"width\":0.5},\"pattern\":{\"fillmode\":\"overlay\",\"size\":10,\"solidity\":0.2}},\"type\":\"barpolar\"}],\"carpet\":[{\"aaxis\":{\"endlinecolor\":\"#2a3f5f\",\"gridcolor\":\"white\",\"linecolor\":\"white\",\"minorgridcolor\":\"white\",\"startlinecolor\":\"#2a3f5f\"},\"baxis\":{\"endlinecolor\":\"#2a3f5f\",\"gridcolor\":\"white\",\"linecolor\":\"white\",\"minorgridcolor\":\"white\",\"startlinecolor\":\"#2a3f5f\"},\"type\":\"carpet\"}],\"choropleth\":[{\"colorbar\":{\"outlinewidth\":0,\"ticks\":\"\"},\"type\":\"choropleth\"}],\"contour\":[{\"colorbar\":{\"outlinewidth\":0,\"ticks\":\"\"},\"colorscale\":[[0.0,\"#0d0887\"],[0.1111111111111111,\"#46039f\"],[0.2222222222222222,\"#7201a8\"],[0.3333333333333333,\"#9c179e\"],[0.4444444444444444,\"#bd3786\"],[0.5555555555555556,\"#d8576b\"],[0.6666666666666666,\"#ed7953\"],[0.7777777777777778,\"#fb9f3a\"],[0.8888888888888888,\"#fdca26\"],[1.0,\"#f0f921\"]],\"type\":\"contour\"}],\"contourcarpet\":[{\"colorbar\":{\"outlinewidth\":0,\"ticks\":\"\"},\"type\":\"contourcarpet\"}],\"heatmap\":[{\"colorbar\":{\"outlinewidth\":0,\"ticks\":\"\"},\"colorscale\":[[0.0,\"#0d0887\"],[0.1111111111111111,\"#46039f\"],[0.2222222222222222,\"#7201a8\"],[0.3333333333333333,\"#9c179e\"],[0.4444444444444444,\"#bd3786\"],[0.5555555555555556,\"#d8576b\"],[0.6666666666666666,\"#ed7953\"],[0.7777777777777778,\"#fb9f3a\"],[0.8888888888888888,\"#fdca26\"],[1.0,\"#f0f921\"]],\"type\":\"heatmap\"}],\"heatmapgl\":[{\"colorbar\":{\"outlinewidth\":0,\"ticks\":\"\"},\"colorscale\":[[0.0,\"#0d0887\"],[0.1111111111111111,\"#46039f\"],[0.2222222222222222,\"#7201a8\"],[0.3333333333333333,\"#9c179e\"],[0.4444444444444444,\"#bd3786\"],[0.5555555555555556,\"#d8576b\"],[0.6666666666666666,\"#ed7953\"],[0.7777777777777778,\"#fb9f3a\"],[0.8888888888888888,\"#fdca26\"],[1.0,\"#f0f921\"]],\"type\":\"heatmapgl\"}],\"histogram\":[{\"marker\":{\"pattern\":{\"fillmode\":\"overlay\",\"size\":10,\"solidity\":0.2}},\"type\":\"histogram\"}],\"histogram2d\":[{\"colorbar\":{\"outlinewidth\":0,\"ticks\":\"\"},\"colorscale\":[[0.0,\"#0d0887\"],[0.1111111111111111,\"#46039f\"],[0.2222222222222222,\"#7201a8\"],[0.3333333333333333,\"#9c179e\"],[0.4444444444444444,\"#bd3786\"],[0.5555555555555556,\"#d8576b\"],[0.6666666666666666,\"#ed7953\"],[0.7777777777777778,\"#fb9f3a\"],[0.8888888888888888,\"#fdca26\"],[1.0,\"#f0f921\"]],\"type\":\"histogram2d\"}],\"histogram2dcontour\":[{\"colorbar\":{\"outlinewidth\":0,\"ticks\":\"\"},\"colorscale\":[[0.0,\"#0d0887\"],[0.1111111111111111,\"#46039f\"],[0.2222222222222222,\"#7201a8\"],[0.3333333333333333,\"#9c179e\"],[0.4444444444444444,\"#bd3786\"],[0.5555555555555556,\"#d8576b\"],[0.6666666666666666,\"#ed7953\"],[0.7777777777777778,\"#fb9f3a\"],[0.8888888888888888,\"#fdca26\"],[1.0,\"#f0f921\"]],\"type\":\"histogram2dcontour\"}],\"mesh3d\":[{\"colorbar\":{\"outlinewidth\":0,\"ticks\":\"\"},\"type\":\"mesh3d\"}],\"parcoords\":[{\"line\":{\"colorbar\":{\"outlinewidth\":0,\"ticks\":\"\"}},\"type\":\"parcoords\"}],\"pie\":[{\"automargin\":true,\"type\":\"pie\"}],\"scatter\":[{\"marker\":{\"colorbar\":{\"outlinewidth\":0,\"ticks\":\"\"}},\"type\":\"scatter\"}],\"scatter3d\":[{\"line\":{\"colorbar\":{\"outlinewidth\":0,\"ticks\":\"\"}},\"marker\":{\"colorbar\":{\"outlinewidth\":0,\"ticks\":\"\"}},\"type\":\"scatter3d\"}],\"scattercarpet\":[{\"marker\":{\"colorbar\":{\"outlinewidth\":0,\"ticks\":\"\"}},\"type\":\"scattercarpet\"}],\"scattergeo\":[{\"marker\":{\"colorbar\":{\"outlinewidth\":0,\"ticks\":\"\"}},\"type\":\"scattergeo\"}],\"scattergl\":[{\"marker\":{\"colorbar\":{\"outlinewidth\":0,\"ticks\":\"\"}},\"type\":\"scattergl\"}],\"scattermapbox\":[{\"marker\":{\"colorbar\":{\"outlinewidth\":0,\"ticks\":\"\"}},\"type\":\"scattermapbox\"}],\"scatterpolar\":[{\"marker\":{\"colorbar\":{\"outlinewidth\":0,\"ticks\":\"\"}},\"type\":\"scatterpolar\"}],\"scatterpolargl\":[{\"marker\":{\"colorbar\":{\"outlinewidth\":0,\"ticks\":\"\"}},\"type\":\"scatterpolargl\"}],\"scatterternary\":[{\"marker\":{\"colorbar\":{\"outlinewidth\":0,\"ticks\":\"\"}},\"type\":\"scatterternary\"}],\"surface\":[{\"colorbar\":{\"outlinewidth\":0,\"ticks\":\"\"},\"colorscale\":[[0.0,\"#0d0887\"],[0.1111111111111111,\"#46039f\"],[0.2222222222222222,\"#7201a8\"],[0.3333333333333333,\"#9c179e\"],[0.4444444444444444,\"#bd3786\"],[0.5555555555555556,\"#d8576b\"],[0.6666666666666666,\"#ed7953\"],[0.7777777777777778,\"#fb9f3a\"],[0.8888888888888888,\"#fdca26\"],[1.0,\"#f0f921\"]],\"type\":\"surface\"}],\"table\":[{\"cells\":{\"fill\":{\"color\":\"#EBF0F8\"},\"line\":{\"color\":\"white\"}},\"header\":{\"fill\":{\"color\":\"#C8D4E3\"},\"line\":{\"color\":\"white\"}},\"type\":\"table\"}]},\"layout\":{\"annotationdefaults\":{\"arrowcolor\":\"#2a3f5f\",\"arrowhead\":0,\"arrowwidth\":1},\"autotypenumbers\":\"strict\",\"coloraxis\":{\"colorbar\":{\"outlinewidth\":0,\"ticks\":\"\"}},\"colorscale\":{\"diverging\":[[0,\"#8e0152\"],[0.1,\"#c51b7d\"],[0.2,\"#de77ae\"],[0.3,\"#f1b6da\"],[0.4,\"#fde0ef\"],[0.5,\"#f7f7f7\"],[0.6,\"#e6f5d0\"],[0.7,\"#b8e186\"],[0.8,\"#7fbc41\"],[0.9,\"#4d9221\"],[1,\"#276419\"]],\"sequential\":[[0.0,\"#0d0887\"],[0.1111111111111111,\"#46039f\"],[0.2222222222222222,\"#7201a8\"],[0.3333333333333333,\"#9c179e\"],[0.4444444444444444,\"#bd3786\"],[0.5555555555555556,\"#d8576b\"],[0.6666666666666666,\"#ed7953\"],[0.7777777777777778,\"#fb9f3a\"],[0.8888888888888888,\"#fdca26\"],[1.0,\"#f0f921\"]],\"sequentialminus\":[[0.0,\"#0d0887\"],[0.1111111111111111,\"#46039f\"],[0.2222222222222222,\"#7201a8\"],[0.3333333333333333,\"#9c179e\"],[0.4444444444444444,\"#bd3786\"],[0.5555555555555556,\"#d8576b\"],[0.6666666666666666,\"#ed7953\"],[0.7777777777777778,\"#fb9f3a\"],[0.8888888888888888,\"#fdca26\"],[1.0,\"#f0f921\"]]},\"colorway\":[\"#636efa\",\"#EF553B\",\"#00cc96\",\"#ab63fa\",\"#FFA15A\",\"#19d3f3\",\"#FF6692\",\"#B6E880\",\"#FF97FF\",\"#FECB52\"],\"font\":{\"color\":\"#2a3f5f\"},\"geo\":{\"bgcolor\":\"white\",\"lakecolor\":\"white\",\"landcolor\":\"#E5ECF6\",\"showlakes\":true,\"showland\":true,\"subunitcolor\":\"white\"},\"hoverlabel\":{\"align\":\"left\"},\"hovermode\":\"closest\",\"mapbox\":{\"style\":\"light\"},\"paper_bgcolor\":\"white\",\"plot_bgcolor\":\"#E5ECF6\",\"polar\":{\"angularaxis\":{\"gridcolor\":\"white\",\"linecolor\":\"white\",\"ticks\":\"\"},\"bgcolor\":\"#E5ECF6\",\"radialaxis\":{\"gridcolor\":\"white\",\"linecolor\":\"white\",\"ticks\":\"\"}},\"scene\":{\"xaxis\":{\"backgroundcolor\":\"#E5ECF6\",\"gridcolor\":\"white\",\"gridwidth\":2,\"linecolor\":\"white\",\"showbackground\":true,\"ticks\":\"\",\"zerolinecolor\":\"white\"},\"yaxis\":{\"backgroundcolor\":\"#E5ECF6\",\"gridcolor\":\"white\",\"gridwidth\":2,\"linecolor\":\"white\",\"showbackground\":true,\"ticks\":\"\",\"zerolinecolor\":\"white\"},\"zaxis\":{\"backgroundcolor\":\"#E5ECF6\",\"gridcolor\":\"white\",\"gridwidth\":2,\"linecolor\":\"white\",\"showbackground\":true,\"ticks\":\"\",\"zerolinecolor\":\"white\"}},\"shapedefaults\":{\"line\":{\"color\":\"#2a3f5f\"}},\"ternary\":{\"aaxis\":{\"gridcolor\":\"white\",\"linecolor\":\"white\",\"ticks\":\"\"},\"baxis\":{\"gridcolor\":\"white\",\"linecolor\":\"white\",\"ticks\":\"\"},\"bgcolor\":\"#E5ECF6\",\"caxis\":{\"gridcolor\":\"white\",\"linecolor\":\"white\",\"ticks\":\"\"}},\"title\":{\"x\":0.05},\"xaxis\":{\"automargin\":true,\"gridcolor\":\"white\",\"linecolor\":\"white\",\"ticks\":\"\",\"title\":{\"standoff\":15},\"zerolinecolor\":\"white\",\"zerolinewidth\":2},\"yaxis\":{\"automargin\":true,\"gridcolor\":\"white\",\"linecolor\":\"white\",\"ticks\":\"\",\"title\":{\"standoff\":15},\"zerolinecolor\":\"white\",\"zerolinewidth\":2}}}},                        {\"responsive\": true}                    ).then(function(){\n",
              "                            \n",
              "var gd = document.getElementById('7d410a54-7c6b-486e-9827-da0391de25f3');\n",
              "var x = new MutationObserver(function (mutations, observer) {{\n",
              "        var display = window.getComputedStyle(gd).display;\n",
              "        if (!display || display === 'none') {{\n",
              "            console.log([gd, 'removed!']);\n",
              "            Plotly.purge(gd);\n",
              "            observer.disconnect();\n",
              "        }}\n",
              "}});\n",
              "\n",
              "// Listen for the removal of the full notebook cells\n",
              "var notebookContainer = gd.closest('#notebook-container');\n",
              "if (notebookContainer) {{\n",
              "    x.observe(notebookContainer, {childList: true});\n",
              "}}\n",
              "\n",
              "// Listen for the clearing of the current output cell\n",
              "var outputEl = gd.closest('.output');\n",
              "if (outputEl) {{\n",
              "    x.observe(outputEl, {childList: true});\n",
              "}}\n",
              "\n",
              "                        })                };                            </script>        </div>\n",
              "</body>\n",
              "</html>"
            ]
          },
          "metadata": {}
        }
      ]
    },
    {
      "cell_type": "code",
      "source": [
        "\n",
        "#Create a new dataframe with only the 'Close column\n",
        "data = df.filter(['Close'])\n",
        "#Convert the dataframe to a numpy array\n",
        "dataset = data.values\n",
        "#Get the number of rows to train the model on\n",
        "training_data_len = int(np.ceil( len(dataset) * .9 ))\n",
        "validation_data_len = int(np.ceil( len(dataset) * .05 ))\n",
        "test_data_len = int(np.ceil( len(dataset) * .05 ))\n",
        "print(training_data_len)\n",
        "print(validation_data_len)\n",
        "print(test_data_len)"
      ],
      "metadata": {
        "colab": {
          "base_uri": "https://localhost:8080/"
        },
        "id": "Ivn6i9WwgR5e",
        "outputId": "bedc7731-4dc9-47d2-8da6-e713349a4171"
      },
      "execution_count": 35,
      "outputs": [
        {
          "output_type": "stream",
          "name": "stdout",
          "text": [
            "8679\n",
            "483\n",
            "483\n"
          ]
        }
      ]
    },
    {
      "cell_type": "code",
      "source": [
        "from sklearn.preprocessing import MinMaxScaler\n",
        "from keras.models import Sequential, load_model\n",
        "from keras.layers import LSTM, Dense, Dropout"
      ],
      "metadata": {
        "id": "2GEW3IvxgR8W"
      },
      "execution_count": 36,
      "outputs": []
    },
    {
      "cell_type": "code",
      "source": [
        "scaler = MinMaxScaler(feature_range=(0,1))\n",
        "scaled_data= scaler.fit_transform(dataset)\n",
        "scaled_data[:5]"
      ],
      "metadata": {
        "colab": {
          "base_uri": "https://localhost:8080/"
        },
        "id": "3Tzl2yR4gR_b",
        "outputId": "f29651c1-1910-4f42-8075-4e249ab32922"
      },
      "execution_count": 37,
      "outputs": [
        {
          "output_type": "execute_result",
          "data": {
            "text/plain": [
              "array([[0.89010757],\n",
              "       [0.89061868],\n",
              "       [0.89048482],\n",
              "       [0.89057   ],\n",
              "       [0.89084381]])"
            ]
          },
          "metadata": {},
          "execution_count": 37
        }
      ]
    },
    {
      "cell_type": "code",
      "source": [
        "data.head()"
      ],
      "metadata": {
        "colab": {
          "base_uri": "https://localhost:8080/",
          "height": 206
        },
        "id": "s8CcdFojgSB4",
        "outputId": "958be791-4f37-42f4-830d-2a423a21d896"
      },
      "execution_count": 38,
      "outputs": [
        {
          "output_type": "execute_result",
          "data": {
            "text/plain": [
              "      Close\n",
              "0  1520.140\n",
              "1  1520.560\n",
              "2  1520.450\n",
              "3  1520.520\n",
              "4  1520.745"
            ],
            "text/html": [
              "\n",
              "  <div id=\"df-d749ac5f-8e5f-4458-9195-5fa89a02b0e1\">\n",
              "    <div class=\"colab-df-container\">\n",
              "      <div>\n",
              "<style scoped>\n",
              "    .dataframe tbody tr th:only-of-type {\n",
              "        vertical-align: middle;\n",
              "    }\n",
              "\n",
              "    .dataframe tbody tr th {\n",
              "        vertical-align: top;\n",
              "    }\n",
              "\n",
              "    .dataframe thead th {\n",
              "        text-align: right;\n",
              "    }\n",
              "</style>\n",
              "<table border=\"1\" class=\"dataframe\">\n",
              "  <thead>\n",
              "    <tr style=\"text-align: right;\">\n",
              "      <th></th>\n",
              "      <th>Close</th>\n",
              "    </tr>\n",
              "  </thead>\n",
              "  <tbody>\n",
              "    <tr>\n",
              "      <th>0</th>\n",
              "      <td>1520.140</td>\n",
              "    </tr>\n",
              "    <tr>\n",
              "      <th>1</th>\n",
              "      <td>1520.560</td>\n",
              "    </tr>\n",
              "    <tr>\n",
              "      <th>2</th>\n",
              "      <td>1520.450</td>\n",
              "    </tr>\n",
              "    <tr>\n",
              "      <th>3</th>\n",
              "      <td>1520.520</td>\n",
              "    </tr>\n",
              "    <tr>\n",
              "      <th>4</th>\n",
              "      <td>1520.745</td>\n",
              "    </tr>\n",
              "  </tbody>\n",
              "</table>\n",
              "</div>\n",
              "      <button class=\"colab-df-convert\" onclick=\"convertToInteractive('df-d749ac5f-8e5f-4458-9195-5fa89a02b0e1')\"\n",
              "              title=\"Convert this dataframe to an interactive table.\"\n",
              "              style=\"display:none;\">\n",
              "        \n",
              "  <svg xmlns=\"http://www.w3.org/2000/svg\" height=\"24px\"viewBox=\"0 0 24 24\"\n",
              "       width=\"24px\">\n",
              "    <path d=\"M0 0h24v24H0V0z\" fill=\"none\"/>\n",
              "    <path d=\"M18.56 5.44l.94 2.06.94-2.06 2.06-.94-2.06-.94-.94-2.06-.94 2.06-2.06.94zm-11 1L8.5 8.5l.94-2.06 2.06-.94-2.06-.94L8.5 2.5l-.94 2.06-2.06.94zm10 10l.94 2.06.94-2.06 2.06-.94-2.06-.94-.94-2.06-.94 2.06-2.06.94z\"/><path d=\"M17.41 7.96l-1.37-1.37c-.4-.4-.92-.59-1.43-.59-.52 0-1.04.2-1.43.59L10.3 9.45l-7.72 7.72c-.78.78-.78 2.05 0 2.83L4 21.41c.39.39.9.59 1.41.59.51 0 1.02-.2 1.41-.59l7.78-7.78 2.81-2.81c.8-.78.8-2.07 0-2.86zM5.41 20L4 18.59l7.72-7.72 1.47 1.35L5.41 20z\"/>\n",
              "  </svg>\n",
              "      </button>\n",
              "      \n",
              "  <style>\n",
              "    .colab-df-container {\n",
              "      display:flex;\n",
              "      flex-wrap:wrap;\n",
              "      gap: 12px;\n",
              "    }\n",
              "\n",
              "    .colab-df-convert {\n",
              "      background-color: #E8F0FE;\n",
              "      border: none;\n",
              "      border-radius: 50%;\n",
              "      cursor: pointer;\n",
              "      display: none;\n",
              "      fill: #1967D2;\n",
              "      height: 32px;\n",
              "      padding: 0 0 0 0;\n",
              "      width: 32px;\n",
              "    }\n",
              "\n",
              "    .colab-df-convert:hover {\n",
              "      background-color: #E2EBFA;\n",
              "      box-shadow: 0px 1px 2px rgba(60, 64, 67, 0.3), 0px 1px 3px 1px rgba(60, 64, 67, 0.15);\n",
              "      fill: #174EA6;\n",
              "    }\n",
              "\n",
              "    [theme=dark] .colab-df-convert {\n",
              "      background-color: #3B4455;\n",
              "      fill: #D2E3FC;\n",
              "    }\n",
              "\n",
              "    [theme=dark] .colab-df-convert:hover {\n",
              "      background-color: #434B5C;\n",
              "      box-shadow: 0px 1px 3px 1px rgba(0, 0, 0, 0.15);\n",
              "      filter: drop-shadow(0px 1px 2px rgba(0, 0, 0, 0.3));\n",
              "      fill: #FFFFFF;\n",
              "    }\n",
              "  </style>\n",
              "\n",
              "      <script>\n",
              "        const buttonEl =\n",
              "          document.querySelector('#df-d749ac5f-8e5f-4458-9195-5fa89a02b0e1 button.colab-df-convert');\n",
              "        buttonEl.style.display =\n",
              "          google.colab.kernel.accessAllowed ? 'block' : 'none';\n",
              "\n",
              "        async function convertToInteractive(key) {\n",
              "          const element = document.querySelector('#df-d749ac5f-8e5f-4458-9195-5fa89a02b0e1');\n",
              "          const dataTable =\n",
              "            await google.colab.kernel.invokeFunction('convertToInteractive',\n",
              "                                                     [key], {});\n",
              "          if (!dataTable) return;\n",
              "\n",
              "          const docLinkHtml = 'Like what you see? Visit the ' +\n",
              "            '<a target=\"_blank\" href=https://colab.research.google.com/notebooks/data_table.ipynb>data table notebook</a>'\n",
              "            + ' to learn more about interactive tables.';\n",
              "          element.innerHTML = '';\n",
              "          dataTable['output_type'] = 'display_data';\n",
              "          await google.colab.output.renderOutput(dataTable, element);\n",
              "          const docLink = document.createElement('div');\n",
              "          docLink.innerHTML = docLinkHtml;\n",
              "          element.appendChild(docLink);\n",
              "        }\n",
              "      </script>\n",
              "    </div>\n",
              "  </div>\n",
              "  "
            ]
          },
          "metadata": {},
          "execution_count": 38
        }
      ]
    },
    {
      "cell_type": "code",
      "source": [
        "#downsizing\n",
        "#data['Open']=pd.to_numeric(data['Open'],downcast='float')\n",
        "#data['High']=pd.to_numeric(data['High'],downcast='float')\n",
        "#data['Low']=pd.to_numeric(data['Low'],downcast='float')\n",
        "#data['Close']=pd.to_numeric(data['Close'],downcast='float')\n",
        "data.info()"
      ],
      "metadata": {
        "colab": {
          "base_uri": "https://localhost:8080/"
        },
        "id": "WUB3CBXJgSFa",
        "outputId": "a6e2e02c-3dac-4685-e9b1-4942f6d1c0f6"
      },
      "execution_count": 39,
      "outputs": [
        {
          "output_type": "stream",
          "name": "stdout",
          "text": [
            "<class 'pandas.core.frame.DataFrame'>\n",
            "RangeIndex: 9643 entries, 0 to 9642\n",
            "Data columns (total 1 columns):\n",
            " #   Column  Non-Null Count  Dtype  \n",
            "---  ------  --------------  -----  \n",
            " 0   Close   9643 non-null   float64\n",
            "dtypes: float64(1)\n",
            "memory usage: 75.5 KB\n"
          ]
        }
      ]
    },
    {
      "cell_type": "code",
      "source": [
        "from google.colab import drive\n",
        "drive.mount('/content/drive')"
      ],
      "metadata": {
        "colab": {
          "base_uri": "https://localhost:8080/"
        },
        "id": "3KkVM4fDguw0",
        "outputId": "2fe13cd2-ee41-40d2-e53b-68e5a4233a4b"
      },
      "execution_count": 41,
      "outputs": [
        {
          "output_type": "stream",
          "name": "stdout",
          "text": [
            "Mounted at /content/drive\n"
          ]
        }
      ]
    },
    {
      "cell_type": "code",
      "source": [
        "## Negative volume implies lack of liquidity in the marketdata\n",
        "#data[data.Volume_Bid < 0] #no values\n",
        "print(data.isna().sum())"
      ],
      "metadata": {
        "colab": {
          "base_uri": "https://localhost:8080/"
        },
        "id": "Lg2_xfjEguy_",
        "outputId": "61772022-6ed0-4dd4-e698-b0b70e729eef"
      },
      "execution_count": 42,
      "outputs": [
        {
          "output_type": "stream",
          "name": "stdout",
          "text": [
            "Close    0\n",
            "dtype: int64\n"
          ]
        }
      ]
    },
    {
      "cell_type": "code",
      "source": [
        "train_data = scaled_data[0:int(training_data_len), :]\n",
        "valid_data = scaled_data[int(training_data_len)- 60: int(training_data_len) + int(validation_data_len), :]\n",
        "print(train_data.shape)\n",
        "#Split the data into x_train and y_train data sets\n",
        "x_train = []\n",
        "y_train = []\n",
        "\n",
        "for i in range(60, len(train_data)):\n",
        "    x_train.append(train_data[i-60:i, 0])\n",
        "    y_train.append(train_data[i, 0])\n",
        "    if i<= 61:\n",
        "        print(x_train)\n",
        "        print(y_train)\n",
        "        print()\n",
        "        \n",
        "# Convert the x_train and y_train to numpy arrays \n",
        "x_train, y_train = np.array(x_train), np.array(y_train)\n",
        "\n",
        "#Reshape the data\n",
        "x_train = np.reshape(x_train, (x_train.shape[0], x_train.shape[1], 1))\n",
        "x_train.shape"
      ],
      "metadata": {
        "colab": {
          "base_uri": "https://localhost:8080/"
        },
        "id": "ztGu5KUWgu1c",
        "outputId": "b2de43eb-a310-4b72-bee3-c294ef777ed6"
      },
      "execution_count": 56,
      "outputs": [
        {
          "output_type": "stream",
          "name": "stdout",
          "text": [
            "(8679, 1)\n",
            "[array([0.89010757, 0.89061868, 0.89048482, 0.89057   , 0.89084381,\n",
            "       0.89117664, 0.89118272, 0.89147478, 0.89135918, 0.89121497,\n",
            "       0.89027368, 0.89051098, 0.89001813, 0.88966522, 0.88981125,\n",
            "       0.88981733, 0.89005463, 0.8903041 , 0.88996945, 0.8899512 ,\n",
            "       0.88985384, 0.88958612, 0.88993903, 0.8897139 , 0.88945226,\n",
            "       0.88986601, 0.88962871, 0.88936707, 0.88925755, 0.88961654,\n",
            "       0.8895922 , 0.8894766 , 0.8894766 , 0.8894766 , 0.88926972,\n",
            "       0.88887422, 0.88886205, 0.88898983, 0.88886813, 0.88922713,\n",
            "       0.88936099, 0.88950093, 0.88933665, 0.88911152, 0.88930014,\n",
            "       0.88889856, 0.88888639, 0.88825967, 0.88853956, 0.88838136,\n",
            "       0.88838745, 0.8885274 , 0.88857425, 0.88838136, 0.88843613,\n",
            "       0.88839962, 0.88827793, 0.88829618, 0.88791102, 0.8880388 ])]\n",
            "[0.8885194850710895]\n",
            "\n",
            "[array([0.89010757, 0.89061868, 0.89048482, 0.89057   , 0.89084381,\n",
            "       0.89117664, 0.89118272, 0.89147478, 0.89135918, 0.89121497,\n",
            "       0.89027368, 0.89051098, 0.89001813, 0.88966522, 0.88981125,\n",
            "       0.88981733, 0.89005463, 0.8903041 , 0.88996945, 0.8899512 ,\n",
            "       0.88985384, 0.88958612, 0.88993903, 0.8897139 , 0.88945226,\n",
            "       0.88986601, 0.88962871, 0.88936707, 0.88925755, 0.88961654,\n",
            "       0.8895922 , 0.8894766 , 0.8894766 , 0.8894766 , 0.88926972,\n",
            "       0.88887422, 0.88886205, 0.88898983, 0.88886813, 0.88922713,\n",
            "       0.88936099, 0.88950093, 0.88933665, 0.88911152, 0.88930014,\n",
            "       0.88889856, 0.88888639, 0.88825967, 0.88853956, 0.88838136,\n",
            "       0.88838745, 0.8885274 , 0.88857425, 0.88838136, 0.88843613,\n",
            "       0.88839962, 0.88827793, 0.88829618, 0.88791102, 0.8880388 ]), array([0.89061868, 0.89048482, 0.89057   , 0.89084381, 0.89117664,\n",
            "       0.89118272, 0.89147478, 0.89135918, 0.89121497, 0.89027368,\n",
            "       0.89051098, 0.89001813, 0.88966522, 0.88981125, 0.88981733,\n",
            "       0.89005463, 0.8903041 , 0.88996945, 0.8899512 , 0.88985384,\n",
            "       0.88958612, 0.88993903, 0.8897139 , 0.88945226, 0.88986601,\n",
            "       0.88962871, 0.88936707, 0.88925755, 0.88961654, 0.8895922 ,\n",
            "       0.8894766 , 0.8894766 , 0.8894766 , 0.88926972, 0.88887422,\n",
            "       0.88886205, 0.88898983, 0.88886813, 0.88922713, 0.88936099,\n",
            "       0.88950093, 0.88933665, 0.88911152, 0.88930014, 0.88889856,\n",
            "       0.88888639, 0.88825967, 0.88853956, 0.88838136, 0.88838745,\n",
            "       0.8885274 , 0.88857425, 0.88838136, 0.88843613, 0.88839962,\n",
            "       0.88827793, 0.88829618, 0.88791102, 0.8880388 , 0.88851949])]\n",
            "[0.8885194850710895, 0.8884543796764078]\n",
            "\n"
          ]
        },
        {
          "output_type": "execute_result",
          "data": {
            "text/plain": [
              "(8619, 60, 1)"
            ]
          },
          "metadata": {},
          "execution_count": 56
        }
      ]
    },
    {
      "cell_type": "code",
      "source": [
        "#Split the data into x_valid and y_valid data sets\n",
        "x_valid = []\n",
        "y_valid = []\n",
        "\n",
        "for i in range(60, len(valid_data)):\n",
        "    x_valid.append(valid_data[i-60:i, 0])\n",
        "    y_valid.append(valid_data[i, 0])\n",
        "    if i<= 61:\n",
        "        print(x_valid)\n",
        "        print(y_valid)\n",
        "        print()\n",
        "        \n",
        "# Convert the x_valid and y_valid to numpy arrays \n",
        "x_valid, y_valid = np.array(x_valid), np.array(y_valid)\n",
        "\n",
        "#Reshape the data\n",
        "x_valid = np.reshape(x_valid, (x_valid.shape[0], x_valid.shape[1], 1))\n",
        "x_valid.shape"
      ],
      "metadata": {
        "colab": {
          "base_uri": "https://localhost:8080/"
        },
        "id": "zkn8A3q4gu4n",
        "outputId": "61892e94-7c2a-4a5c-a52d-29c1710317d2"
      },
      "execution_count": 57,
      "outputs": [
        {
          "output_type": "stream",
          "name": "stdout",
          "text": [
            "[array([0.92253066, 0.92280021, 0.92276796, 0.92276371, 0.92276796,\n",
            "       0.92277405, 0.92262193, 0.92284889, 0.92284281, 0.92262376,\n",
            "       0.92262376, 0.92262984, 0.92252641, 0.92290365, 0.92287931,\n",
            "       0.92287931, 0.92328698, 0.92313304, 0.9232018 , 0.92298884,\n",
            "       0.92300709, 0.92297667, 0.92300709, 0.92306185, 0.92286714,\n",
            "       0.92311053, 0.92287323, 0.9227558 , 0.92236212, 0.92231344,\n",
            "       0.92241688, 0.92253857, 0.9230722 , 0.92314643, 0.92315251,\n",
            "       0.92322553, 0.92324987, 0.92345188, 0.9235468 , 0.92384677,\n",
            "       0.92360338, 0.92359121, 0.92360338, 0.9238346 , 0.92385285,\n",
            "       0.92397029, 0.92410232, 0.92413457, 0.92412666, 0.92404756,\n",
            "       0.92402748, 0.92414065, 0.92428303, 0.92432137, 0.92438221,\n",
            "       0.92453859, 0.92450208, 0.92466028, 0.92449782, 0.92463777])]\n",
            "[0.9243882983092674]\n",
            "\n",
            "[array([0.92253066, 0.92280021, 0.92276796, 0.92276371, 0.92276796,\n",
            "       0.92277405, 0.92262193, 0.92284889, 0.92284281, 0.92262376,\n",
            "       0.92262376, 0.92262984, 0.92252641, 0.92290365, 0.92287931,\n",
            "       0.92287931, 0.92328698, 0.92313304, 0.9232018 , 0.92298884,\n",
            "       0.92300709, 0.92297667, 0.92300709, 0.92306185, 0.92286714,\n",
            "       0.92311053, 0.92287323, 0.9227558 , 0.92236212, 0.92231344,\n",
            "       0.92241688, 0.92253857, 0.9230722 , 0.92314643, 0.92315251,\n",
            "       0.92322553, 0.92324987, 0.92345188, 0.9235468 , 0.92384677,\n",
            "       0.92360338, 0.92359121, 0.92360338, 0.9238346 , 0.92385285,\n",
            "       0.92397029, 0.92410232, 0.92413457, 0.92412666, 0.92404756,\n",
            "       0.92402748, 0.92414065, 0.92428303, 0.92432137, 0.92438221,\n",
            "       0.92453859, 0.92450208, 0.92466028, 0.92449782, 0.92463777]), array([0.92280021, 0.92276796, 0.92276371, 0.92276796, 0.92277405,\n",
            "       0.92262193, 0.92284889, 0.92284281, 0.92262376, 0.92262376,\n",
            "       0.92262984, 0.92252641, 0.92290365, 0.92287931, 0.92287931,\n",
            "       0.92328698, 0.92313304, 0.9232018 , 0.92298884, 0.92300709,\n",
            "       0.92297667, 0.92300709, 0.92306185, 0.92286714, 0.92311053,\n",
            "       0.92287323, 0.9227558 , 0.92236212, 0.92231344, 0.92241688,\n",
            "       0.92253857, 0.9230722 , 0.92314643, 0.92315251, 0.92322553,\n",
            "       0.92324987, 0.92345188, 0.9235468 , 0.92384677, 0.92360338,\n",
            "       0.92359121, 0.92360338, 0.9238346 , 0.92385285, 0.92397029,\n",
            "       0.92410232, 0.92413457, 0.92412666, 0.92404756, 0.92402748,\n",
            "       0.92414065, 0.92428303, 0.92432137, 0.92438221, 0.92453859,\n",
            "       0.92450208, 0.92466028, 0.92449782, 0.92463777, 0.9243883 ])]\n",
            "[0.9243882983092674, 0.9239848882468943]\n",
            "\n"
          ]
        },
        {
          "output_type": "execute_result",
          "data": {
            "text/plain": [
              "(483, 60, 1)"
            ]
          },
          "metadata": {},
          "execution_count": 57
        }
      ]
    },
    {
      "cell_type": "code",
      "source": [
        "from keras.callbacks import EarlyStopping\n",
        "#es = EarlyStopping(monitor='val_loss')\n",
        "#es = EarlyStopping(monitor='val_loss', mode='min')\n",
        "#es = EarlyStopping(monitor='val_loss', mode='min', verbose=1)\n",
        "#es = EarlyStopping(monitor='val_loss', mode='min', verbose=1, patience=50)\n",
        "#es = EarlyStopping(monitor='val_accuracy', mode='max', min_delta=1)\n",
        "#es = EarlyStopping(monitor='val_loss', mode='min', baseline=0.4)"
      ],
      "metadata": {
        "id": "iwnCuYGYgu7p"
      },
      "execution_count": 58,
      "outputs": []
    },
    {
      "cell_type": "code",
      "source": [
        "from tensorflow.keras.callbacks import EarlyStopping\n",
        "from tensorflow.keras.callbacks import ModelCheckpoint"
      ],
      "metadata": {
        "id": "Vy6A-KN_kKLd"
      },
      "execution_count": 59,
      "outputs": []
    },
    {
      "cell_type": "code",
      "source": [
        "es = EarlyStopping(monitor='val_mse', mode='min', patience=10, verbose=1)"
      ],
      "metadata": {
        "id": "WP0dRMN7kNEM"
      },
      "execution_count": 60,
      "outputs": []
    },
    {
      "cell_type": "code",
      "source": [
        "mc = ModelCheckpoint('LSTM_model_mse.h5', monitor='val_mse', mode='min', save_best_only=True)"
      ],
      "metadata": {
        "id": "tintzlpVkWRc"
      },
      "execution_count": 61,
      "outputs": []
    },
    {
      "cell_type": "code",
      "source": [
        "from keras.models import Sequential\n",
        "from keras.layers import Dense, LSTM, GRU\n",
        "\n",
        "#Build the LSTM/GRU model\n",
        "# LSTM Layer returns whole_seq_output, final_memory_state, and final_carry_state \n",
        "# GRU Layer whole_sequence_output, and final_state\n",
        "model = Sequential()\n",
        "model.add(LSTM(64, return_sequences=True, input_shape= (x_train.shape[1], 1)))\n",
        "\n",
        "model.add(LSTM(128, return_sequences= True))\n",
        "model.add(LSTM(256, return_sequences= False))\n",
        "model.add(Dense(25,activation=\"relu\", kernel_initializer=\"uniform\"))\n",
        "model.add(Dense(1,activation=\"relu\"))\n",
        "#model.add(GRU(64, return_sequences=True, input_shape= (x_train.shape[1], 1)))\n",
        "\n",
        "# model.add(GRU(128, return_sequences= True))\n",
        "# model.add(GRU(256, return_sequences= False))\n",
        "# model.add(Dense(25,activation=\"relu\", kernel_initializer=\"uniform\"))\n",
        "# model.add(Dense(1,activation=\"relu\"))\n",
        "print(model.summary())\n",
        "# Compile the model\n",
        "#model.compile(optimizer='adam', loss='mean_squared_error')\n",
        "\n",
        "model.compile(optimizer=\"adam\",loss=\"mse\",metrics=['mse', 'mae', 'mape'])\n",
        "\n",
        "\n",
        "#Train the model\n",
        "history = model.fit(x_train, y_train, batch_size=20, validation_data=(x_valid, y_valid), epochs=50, callbacks=[es,mc])"
      ],
      "metadata": {
        "colab": {
          "base_uri": "https://localhost:8080/"
        },
        "id": "EGN-UaeKgu-6",
        "outputId": "440e7eb3-a7bd-46b8-b30d-d9a9334da4a2"
      },
      "execution_count": 62,
      "outputs": [
        {
          "output_type": "stream",
          "name": "stdout",
          "text": [
            "Model: \"sequential_1\"\n",
            "_________________________________________________________________\n",
            " Layer (type)                Output Shape              Param #   \n",
            "=================================================================\n",
            " lstm_3 (LSTM)               (None, 60, 64)            16896     \n",
            "                                                                 \n",
            " lstm_4 (LSTM)               (None, 60, 128)           98816     \n",
            "                                                                 \n",
            " lstm_5 (LSTM)               (None, 256)               394240    \n",
            "                                                                 \n",
            " dense_2 (Dense)             (None, 25)                6425      \n",
            "                                                                 \n",
            " dense_3 (Dense)             (None, 1)                 26        \n",
            "                                                                 \n",
            "=================================================================\n",
            "Total params: 516,403\n",
            "Trainable params: 516,403\n",
            "Non-trainable params: 0\n",
            "_________________________________________________________________\n",
            "None\n",
            "Epoch 1/50\n",
            "431/431 [==============================] - 10s 15ms/step - loss: 0.0140 - mse: 0.0140 - mae: 0.0394 - mape: 4.2272 - val_loss: 7.6671e-06 - val_mse: 7.6671e-06 - val_mae: 0.0025 - val_mape: 0.2701\n",
            "Epoch 2/50\n",
            "431/431 [==============================] - 6s 13ms/step - loss: 2.5519e-04 - mse: 2.5519e-04 - mae: 0.0129 - mape: 1.3845 - val_loss: 8.0432e-06 - val_mse: 8.0432e-06 - val_mae: 0.0027 - val_mape: 0.2865\n",
            "Epoch 3/50\n",
            "431/431 [==============================] - 6s 14ms/step - loss: 1.1770e-04 - mse: 1.1770e-04 - mae: 0.0086 - mape: 0.9180 - val_loss: 2.7356e-05 - val_mse: 2.7356e-05 - val_mae: 0.0051 - val_mape: 0.5558\n",
            "Epoch 4/50\n",
            "431/431 [==============================] - 5s 12ms/step - loss: 2.7393e-05 - mse: 2.7393e-05 - mae: 0.0040 - mape: 0.4276 - val_loss: 3.1694e-05 - val_mse: 3.1694e-05 - val_mae: 0.0055 - val_mape: 0.5931\n",
            "Epoch 5/50\n",
            "431/431 [==============================] - 5s 12ms/step - loss: 2.0776e-05 - mse: 2.0776e-05 - mae: 0.0036 - mape: 0.3871 - val_loss: 1.9849e-05 - val_mse: 1.9849e-05 - val_mae: 0.0043 - val_mape: 0.4624\n",
            "Epoch 6/50\n",
            "431/431 [==============================] - 5s 12ms/step - loss: 2.6847e-05 - mse: 2.6847e-05 - mae: 0.0041 - mape: 0.4339 - val_loss: 7.0367e-05 - val_mse: 7.0367e-05 - val_mae: 0.0083 - val_mape: 0.8964\n",
            "Epoch 7/50\n",
            "431/431 [==============================] - 5s 12ms/step - loss: 4.3226e-05 - mse: 4.3226e-05 - mae: 0.0052 - mape: 0.5601 - val_loss: 2.6755e-05 - val_mse: 2.6755e-05 - val_mae: 0.0050 - val_mape: 0.5429\n",
            "Epoch 8/50\n",
            "431/431 [==============================] - 5s 12ms/step - loss: 4.9439e-05 - mse: 4.9439e-05 - mae: 0.0057 - mape: 0.6141 - val_loss: 5.0939e-06 - val_mse: 5.0939e-06 - val_mae: 0.0021 - val_mape: 0.2277\n",
            "Epoch 9/50\n",
            "431/431 [==============================] - 5s 12ms/step - loss: 4.9956e-05 - mse: 4.9956e-05 - mae: 0.0056 - mape: 0.6019 - val_loss: 7.9236e-06 - val_mse: 7.9236e-06 - val_mae: 0.0027 - val_mape: 0.2933\n",
            "Epoch 10/50\n",
            "431/431 [==============================] - 5s 12ms/step - loss: 5.6778e-05 - mse: 5.6778e-05 - mae: 0.0059 - mape: 0.6361 - val_loss: 1.0149e-04 - val_mse: 1.0149e-04 - val_mae: 0.0100 - val_mape: 1.0803\n",
            "Epoch 11/50\n",
            "431/431 [==============================] - 5s 12ms/step - loss: 5.9026e-05 - mse: 5.9026e-05 - mae: 0.0055 - mape: 0.5853 - val_loss: 1.7393e-06 - val_mse: 1.7393e-06 - val_mae: 7.8478e-04 - val_mape: 0.0846\n",
            "Epoch 12/50\n",
            "431/431 [==============================] - 5s 12ms/step - loss: 6.0684e-05 - mse: 6.0684e-05 - mae: 0.0061 - mape: 0.6579 - val_loss: 1.4284e-06 - val_mse: 1.4284e-06 - val_mae: 6.6920e-04 - val_mape: 0.0722\n",
            "Epoch 13/50\n",
            "431/431 [==============================] - 5s 12ms/step - loss: 5.7597e-05 - mse: 5.7597e-05 - mae: 0.0060 - mape: 0.6387 - val_loss: 4.2341e-06 - val_mse: 4.2341e-06 - val_mae: 0.0017 - val_mape: 0.1852\n",
            "Epoch 14/50\n",
            "431/431 [==============================] - 5s 12ms/step - loss: 4.8513e-05 - mse: 4.8513e-05 - mae: 0.0055 - mape: 0.5867 - val_loss: 1.5317e-04 - val_mse: 1.5317e-04 - val_mae: 0.0123 - val_mape: 1.3308\n",
            "Epoch 15/50\n",
            "431/431 [==============================] - 5s 12ms/step - loss: 4.3727e-05 - mse: 4.3727e-05 - mae: 0.0052 - mape: 0.5535 - val_loss: 1.3629e-06 - val_mse: 1.3629e-06 - val_mae: 6.5286e-04 - val_mape: 0.0704\n",
            "Epoch 16/50\n",
            "431/431 [==============================] - 5s 12ms/step - loss: 5.9281e-05 - mse: 5.9281e-05 - mae: 0.0062 - mape: 0.6586 - val_loss: 2.1790e-06 - val_mse: 2.1790e-06 - val_mae: 0.0010 - val_mape: 0.1105\n",
            "Epoch 17/50\n",
            "431/431 [==============================] - 5s 12ms/step - loss: 4.5569e-05 - mse: 4.5569e-05 - mae: 0.0052 - mape: 0.5609 - val_loss: 2.8079e-05 - val_mse: 2.8079e-05 - val_mae: 0.0052 - val_mape: 0.5597\n",
            "Epoch 18/50\n",
            "431/431 [==============================] - 5s 12ms/step - loss: 3.9299e-05 - mse: 3.9299e-05 - mae: 0.0049 - mape: 0.5279 - val_loss: 1.6296e-05 - val_mse: 1.6296e-05 - val_mae: 0.0040 - val_mape: 0.4295\n",
            "Epoch 19/50\n",
            "431/431 [==============================] - 5s 12ms/step - loss: 3.4298e-05 - mse: 3.4298e-05 - mae: 0.0047 - mape: 0.5009 - val_loss: 5.2244e-05 - val_mse: 5.2244e-05 - val_mae: 0.0071 - val_mape: 0.7717\n",
            "Epoch 20/50\n",
            "431/431 [==============================] - 5s 12ms/step - loss: 3.5005e-05 - mse: 3.5005e-05 - mae: 0.0046 - mape: 0.4893 - val_loss: 4.6943e-06 - val_mse: 4.6943e-06 - val_mae: 0.0019 - val_mape: 0.2033\n",
            "Epoch 21/50\n",
            "431/431 [==============================] - 5s 12ms/step - loss: 3.5210e-05 - mse: 3.5210e-05 - mae: 0.0047 - mape: 0.5027 - val_loss: 1.1834e-05 - val_mse: 1.1834e-05 - val_mae: 0.0034 - val_mape: 0.3650\n",
            "Epoch 22/50\n",
            "431/431 [==============================] - 5s 12ms/step - loss: 2.9399e-05 - mse: 2.9399e-05 - mae: 0.0043 - mape: 0.4580 - val_loss: 6.9624e-05 - val_mse: 6.9624e-05 - val_mae: 0.0083 - val_mape: 0.8937\n",
            "Epoch 23/50\n",
            "431/431 [==============================] - 5s 12ms/step - loss: 3.9515e-05 - mse: 3.9515e-05 - mae: 0.0045 - mape: 0.4782 - val_loss: 1.0657e-05 - val_mse: 1.0657e-05 - val_mae: 0.0031 - val_mape: 0.3337\n",
            "Epoch 24/50\n",
            "431/431 [==============================] - 5s 12ms/step - loss: 2.1511e-05 - mse: 2.1511e-05 - mae: 0.0036 - mape: 0.3841 - val_loss: 2.4396e-06 - val_mse: 2.4396e-06 - val_mae: 0.0014 - val_mape: 0.1474\n",
            "Epoch 25/50\n",
            "431/431 [==============================] - 5s 12ms/step - loss: 2.4749e-05 - mse: 2.4749e-05 - mae: 0.0037 - mape: 0.3913 - val_loss: 1.5831e-06 - val_mse: 1.5831e-06 - val_mae: 7.9441e-04 - val_mape: 0.0857\n",
            "Epoch 25: early stopping\n"
          ]
        }
      ]
    },
    {
      "cell_type": "code",
      "source": [],
      "metadata": {
        "id": "lkbw3z8dqrPX"
      },
      "execution_count": null,
      "outputs": []
    },
    {
      "cell_type": "code",
      "source": [
        "# Evaluate the quality of network training on test data (which the network did NOT see)\n",
        "scores = model.evaluate(x_valid, y_valid, verbose=0)\n",
        "# mse, mae, mape = model.evaluate(X_test, y_test, verbose=0)"
      ],
      "metadata": {
        "id": "Xp2Xbic0kjk9"
      },
      "execution_count": 63,
      "outputs": []
    },
    {
      "cell_type": "code",
      "source": [
        "scores"
      ],
      "metadata": {
        "colab": {
          "base_uri": "https://localhost:8080/"
        },
        "id": "0qTa0VeAk7Af",
        "outputId": "1c9f94ce-b293-4fe8-d4c4-176432fc891f"
      },
      "execution_count": 64,
      "outputs": [
        {
          "output_type": "execute_result",
          "data": {
            "text/plain": [
              "[1.5830939901206875e-06,\n",
              " 1.5830939901206875e-06,\n",
              " 0.0007944069802761078,\n",
              " 0.08567032217979431]"
            ]
          },
          "metadata": {},
          "execution_count": 64
        }
      ]
    },
    {
      "cell_type": "code",
      "source": [
        "print(\"Mean squared error (mse): %.7f %%\" % (scores[1]*100))"
      ],
      "metadata": {
        "colab": {
          "base_uri": "https://localhost:8080/"
        },
        "id": "cCDsJtV5k9zi",
        "outputId": "7e6f5399-3bda-4d55-9c55-7ded85622c01"
      },
      "execution_count": 65,
      "outputs": [
        {
          "output_type": "stream",
          "name": "stdout",
          "text": [
            "Mean squared error (mse): 0.0001583 %\n"
          ]
        }
      ]
    },
    {
      "cell_type": "code",
      "source": [
        "print(\"Mean absolute error (mae): %.3f %%\" % (scores[2]*100))"
      ],
      "metadata": {
        "colab": {
          "base_uri": "https://localhost:8080/"
        },
        "id": "iIfgXfAolBEA",
        "outputId": "e26574ae-a0af-45a4-821b-e6cf9acb5a79"
      },
      "execution_count": 66,
      "outputs": [
        {
          "output_type": "stream",
          "name": "stdout",
          "text": [
            "Mean absolute error (mae): 0.079 %\n"
          ]
        }
      ]
    },
    {
      "cell_type": "code",
      "source": [
        "print(\"Mean absolute percentage error (mape): %.2f %%\" % (scores[3]*100))"
      ],
      "metadata": {
        "colab": {
          "base_uri": "https://localhost:8080/"
        },
        "id": "nNUSPUfxlDWS",
        "outputId": "1f1bbbff-70fd-4964-dd4d-8586f46a87f2"
      },
      "execution_count": 67,
      "outputs": [
        {
          "output_type": "stream",
          "name": "stdout",
          "text": [
            "Mean absolute percentage error (mape): 8.57 %\n"
          ]
        }
      ]
    },
    {
      "cell_type": "code",
      "source": [
        "pred = model.predict(x_valid)\n"
      ],
      "metadata": {
        "colab": {
          "base_uri": "https://localhost:8080/"
        },
        "id": "c0Ro70eqlGD4",
        "outputId": "1747c9d8-0c51-4506-ed6f-f1c0c2f4816a"
      },
      "execution_count": 68,
      "outputs": [
        {
          "output_type": "stream",
          "name": "stdout",
          "text": [
            "16/16 [==============================] - 1s 6ms/step\n"
          ]
        }
      ]
    },
    {
      "cell_type": "code",
      "source": [
        "import matplotlib.pyplot as plt\n",
        "loss = history.history['loss']\n",
        "val_loss = history.history['val_loss']\n",
        "epochs = range(len(loss)) \n",
        "plt.plot(epochs, loss, 'b', label='Training loss')\n",
        "plt.plot(epochs, val_loss, 'r', label='Validation loss')\n",
        "plt.title('Training and validation loss')\n",
        "plt.legend()\n",
        "plt.show()"
      ],
      "metadata": {
        "id": "Dkot21KAhjFG",
        "colab": {
          "base_uri": "https://localhost:8080/",
          "height": 281
        },
        "outputId": "53d44f2f-2cbf-4e5b-905f-a1c94785143b"
      },
      "execution_count": 69,
      "outputs": [
        {
          "output_type": "display_data",
          "data": {
            "text/plain": [
              "<Figure size 432x288 with 1 Axes>"
            ],
            "image/png": "[encoded data removed]"
          },
          "metadata": {
            "needs_background": "light"
          }
        }
      ]
    },
    {
      "cell_type": "markdown",
      "source": [
        "#### MSE graphs during training"
      ],
      "metadata": {
        "id": "KEqg86L9lOZS"
      }
    },
    {
      "cell_type": "code",
      "source": [
        "# Training Mean Squared Error (MSE)\n",
        "plt.plot(history.history['mse'])\n",
        "#pyplot.plot(history.history['mse'][1:])\n",
        "plt.xlabel('Mean Squared Error',size=14)"
      ],
      "metadata": {
        "colab": {
          "base_uri": "https://localhost:8080/",
          "height": 301
        },
        "id": "mhg-aSZKlSN6",
        "outputId": "7a860d00-dc2a-40af-c369-54c3638df170"
      },
      "execution_count": 73,
      "outputs": [
        {
          "output_type": "execute_result",
          "data": {
            "text/plain": [
              "Text(0.5, 0, 'Mean Squared Error')"
            ]
          },
          "metadata": {},
          "execution_count": 73
        },
        {
          "output_type": "display_data",
          "data": {
            "text/plain": [
              "<Figure size 432x288 with 1 Axes>"
            ],
            "image/png": "[encoded data removed]"
          },
          "metadata": {
            "needs_background": "light"
          }
        }
      ]
    },
    {
      "cell_type": "code",
      "source": [
        "history_dict = history.history\n",
        "plt.style.use('seaborn-darkgrid') \n",
        "mse_values = history_dict['mse']\n",
        "\n",
        "val_mse_values = history_dict['val_mse']\n",
        "\n",
        "epochs = range(1, len(mse_values) + 1)\n",
        "plt.figure(num=1, figsize=(15,7))\n",
        "plt.plot(epochs, mse_values, 'bo', label='Training Mean Squared Error (MSE)')\n",
        "plt.plot(epochs, val_mse_values, 'b', label='Validation Mean Squared Error (MSE)')\n",
        "plt.xlabel('Epochs', size=18)\n",
        "plt.ylabel('Mean Squared Error (MSE)', size=18)\n",
        "plt.legend()\n",
        "plt.show()"
      ],
      "metadata": {
        "colab": {
          "base_uri": "https://localhost:8080/",
          "height": 446
        },
        "id": "JrzOD9VPlU5X",
        "outputId": "f886747e-2b82-478a-b5aa-45e21faec6fb"
      },
      "execution_count": 74,
      "outputs": [
        {
          "output_type": "display_data",
          "data": {
            "text/plain": [
              "<Figure size 1080x504 with 1 Axes>"
            ],
            "image/png": "[encoded data removed]"
          },
          "metadata": {}
        }
      ]
    },
    {
      "cell_type": "code",
      "source": [
        "# deleted the first epoch result\n",
        "\n",
        "history_dict = history.history\n",
        "plt.style.use('seaborn-darkgrid') \n",
        "mse_values = history_dict['mse'][1:]\n",
        "\n",
        "val_mse_values = history_dict['val_mse'][1:]\n",
        "\n",
        "epochs = range(1, len(mse_values) + 1)\n",
        "plt.figure(num=1, figsize=(15,7))\n",
        "plt.plot(epochs, mse_values, 'bo', label='Training Mean Squared Error (MSE)')\n",
        "plt.plot(epochs, val_mse_values, 'b', label='Validation Mean Squared Error (MSE)')\n",
        "plt.xlabel('Epochs', size=18)\n",
        "plt.ylabel('Mean Squared Error (MSE)', size=18)\n",
        "plt.legend()\n",
        "plt.show()"
      ],
      "metadata": {
        "colab": {
          "base_uri": "https://localhost:8080/",
          "height": 446
        },
        "id": "QWE7WmhdlXzj",
        "outputId": "419bc45b-3ed3-44bf-c3fc-be10999902e8"
      },
      "execution_count": 75,
      "outputs": [
        {
          "output_type": "display_data",
          "data": {
            "text/plain": [
              "<Figure size 1080x504 with 1 Axes>"
            ],
            "image/png": "[encoded data removed]"
          },
          "metadata": {}
        }
      ]
    },
    {
      "cell_type": "markdown",
      "source": [
        "#### MAE graphs during training"
      ],
      "metadata": {
        "id": "XowNrtnflcFQ"
      }
    },
    {
      "cell_type": "code",
      "source": [
        "# Training Mean Absolute Error(MAE)\n",
        "\n",
        "plt.plot(history.history['mae'])\n",
        "plt.xlabel('Mean Absolute error',size=14)\n",
        "plt.show()"
      ],
      "metadata": {
        "colab": {
          "base_uri": "https://localhost:8080/",
          "height": 280
        },
        "id": "kCtjHdv-leXq",
        "outputId": "15ef28f4-bce0-42b6-da4c-f629074677bb"
      },
      "execution_count": 89,
      "outputs": [
        {
          "output_type": "display_data",
          "data": {
            "text/plain": [
              "<Figure size 432x288 with 1 Axes>"
            ],
            "image/png": "[encoded data removed]"
          },
          "metadata": {}
        }
      ]
    },
    {
      "cell_type": "code",
      "source": [
        "history_dict = history.history\n",
        "plt.style.use('seaborn-darkgrid') \n",
        "mae_values = history_dict['mae']\n",
        "\n",
        "val_mae_values = history_dict['val_mae']\n",
        "\n",
        "epochs = range(1, len(mae_values) + 1)\n",
        "plt.figure(num=1, figsize=(15,7))\n",
        "plt.plot(epochs, mae_values, 'bo', label='Training Mean Absolute Error(MAE)')\n",
        "plt.plot(epochs, val_mae_values, 'b', label='Validation Mean Absolute Error(MAE)')\n",
        "plt.xlabel('Epochs', size=18)\n",
        "plt.ylabel('Mean Absolute Error(MAE)', size=18)\n",
        "plt.legend()\n",
        "plt.show()"
      ],
      "metadata": {
        "colab": {
          "base_uri": "https://localhost:8080/",
          "height": 446
        },
        "id": "PzVulOjIlgri",
        "outputId": "6c6a3f95-bd3a-4088-8925-aaf5fea7becb"
      },
      "execution_count": 79,
      "outputs": [
        {
          "output_type": "display_data",
          "data": {
            "text/plain": [
              "<Figure size 1080x504 with 1 Axes>"
            ],
            "image/png": "[encoded data removed]"
          },
          "metadata": {}
        }
      ]
    },
    {
      "cell_type": "markdown",
      "source": [
        "#### MAPE graphs during training"
      ],
      "metadata": {
        "id": "KQCYEOcHlj0s"
      }
    },
    {
      "cell_type": "code",
      "source": [
        "# Training Mean Absolute Percentage Error(MAPE)\n",
        "\n",
        "plt.plot(history.history['mape'])\n",
        "plt.xlabel('Mean Absoulte Percentage Error',size=14)"
      ],
      "metadata": {
        "colab": {
          "base_uri": "https://localhost:8080/",
          "height": 298
        },
        "id": "NFhSIzxDlmNd",
        "outputId": "95319564-41ff-444a-cbc8-7e2fc4610e40"
      },
      "execution_count": 81,
      "outputs": [
        {
          "output_type": "execute_result",
          "data": {
            "text/plain": [
              "Text(0.5, 0, 'Mean Absoulte Percentage Error')"
            ]
          },
          "metadata": {},
          "execution_count": 81
        },
        {
          "output_type": "display_data",
          "data": {
            "text/plain": [
              "<Figure size 432x288 with 1 Axes>"
            ],
            "image/png": "[encoded data removed]"
          },
          "metadata": {}
        }
      ]
    },
    {
      "cell_type": "code",
      "source": [
        "history_dict = history.history\n",
        "plt.style.use('seaborn-darkgrid') \n",
        "mape_values = history_dict['mape']\n",
        "\n",
        "val_mape_values = history_dict['val_mape']\n",
        "\n",
        "epochs = range(1, len(mape_values) + 1)\n",
        "plt.figure(num=1, figsize=(15,7))\n",
        "plt.plot(epochs, mape_values, 'bo', label='Training Mean Absolute Percentage Error(MAPE)')\n",
        "plt.plot(epochs, val_mape_values, 'b', label='Validation Mean Absolute Percentage Error(MAPE)')\n",
        "plt.xlabel('Epochs', size=18)\n",
        "plt.ylabel('Mean Absolute Percentage Error(MAPE)', size=18)\n",
        "plt.legend()\n",
        "plt.show()"
      ],
      "metadata": {
        "colab": {
          "base_uri": "https://localhost:8080/",
          "height": 446
        },
        "id": "a__oDV-vlopB",
        "outputId": "1ae3c4fd-3b87-4613-9259-71ee144045fc"
      },
      "execution_count": 82,
      "outputs": [
        {
          "output_type": "display_data",
          "data": {
            "text/plain": [
              "<Figure size 1080x504 with 1 Axes>"
            ],
            "image/png": "[encoded data removed]"
          },
          "metadata": {}
        }
      ]
    },
    {
      "cell_type": "markdown",
      "source": [
        "###Accuracy"
      ],
      "metadata": {
        "id": "oxbOlm5Wq8sB"
      }
    },
    {
      "cell_type": "code",
      "source": [
        "es = EarlyStopping(monitor='val_loss', mode='min', patience=10, verbose=1)\n",
        "#es = EarlyStopping(monitor='val_accuracy', mode='max', patience=10, verbose=1)"
      ],
      "metadata": {
        "id": "0ysNSaU1qvPv"
      },
      "execution_count": 90,
      "outputs": []
    },
    {
      "cell_type": "code",
      "source": [
        "mc = ModelCheckpoint('best_model_accuracy.h5', monitor='val_loss', mode='min', save_best_only=True)\n",
        "#mc = ModelCheckpoint('best_model_mse.h5', monitor='val_accuracy', mode='max', save_best_only=True)"
      ],
      "metadata": {
        "id": "-34ampKYrC1_"
      },
      "execution_count": 91,
      "outputs": []
    },
    {
      "cell_type": "code",
      "source": [
        "model.compile(optimizer=\"adam\",loss=\"mse\",metrics=['accuracy'])"
      ],
      "metadata": {
        "id": "ACZgpg7hrF4X"
      },
      "execution_count": 92,
      "outputs": []
    },
    {
      "cell_type": "code",
      "source": [
        "history_2 = model.fit(x_train, y_train, batch_size=1, epochs=50,\n",
        "                    validation_split=0.2, shuffle=True,\n",
        "                      verbose=1, callbacks=[es, mc])\n"
      ],
      "metadata": {
        "colab": {
          "base_uri": "https://localhost:8080/"
        },
        "id": "eOIaT1c0rJZI",
        "outputId": "a608eba9-2b7a-43a5-c767-d2b71f9cbe19"
      },
      "execution_count": 107,
      "outputs": [
        {
          "output_type": "stream",
          "name": "stdout",
          "text": [
            "Epoch 1/50\n",
            "6895/6895 [==============================] - 118s 17ms/step - loss: 5.3371e-05 - accuracy: 1.4503e-04 - val_loss: 2.7965e-05 - val_accuracy: 0.0000e+00\n",
            "Epoch 2/50\n",
            "6895/6895 [==============================] - 117s 17ms/step - loss: 3.0962e-05 - accuracy: 1.4503e-04 - val_loss: 1.3759e-05 - val_accuracy: 0.0000e+00\n",
            "Epoch 3/50\n",
            "6895/6895 [==============================] - 110s 16ms/step - loss: 2.4245e-05 - accuracy: 1.4503e-04 - val_loss: 6.4064e-05 - val_accuracy: 0.0000e+00\n",
            "Epoch 4/50\n",
            "6895/6895 [==============================] - 117s 17ms/step - loss: 3.7044e-05 - accuracy: 1.4503e-04 - val_loss: 9.8613e-07 - val_accuracy: 0.0000e+00\n",
            "Epoch 5/50\n",
            "6895/6895 [==============================] - 111s 16ms/step - loss: 1.9925e-05 - accuracy: 1.4503e-04 - val_loss: 3.0496e-06 - val_accuracy: 0.0000e+00\n",
            "Epoch 6/50\n",
            "6895/6895 [==============================] - 111s 16ms/step - loss: 1.7241e-05 - accuracy: 1.4503e-04 - val_loss: 1.0489e-05 - val_accuracy: 0.0000e+00\n",
            "Epoch 7/50\n",
            "6895/6895 [==============================] - 110s 16ms/step - loss: 1.2354e-05 - accuracy: 1.4503e-04 - val_loss: 2.7599e-06 - val_accuracy: 0.0000e+00\n",
            "Epoch 8/50\n",
            "6895/6895 [==============================] - 111s 16ms/step - loss: 1.3987e-05 - accuracy: 1.4503e-04 - val_loss: 7.4133e-07 - val_accuracy: 0.0000e+00\n",
            "Epoch 9/50\n",
            "6895/6895 [==============================] - 109s 16ms/step - loss: 1.0022e-05 - accuracy: 1.4503e-04 - val_loss: 6.9008e-06 - val_accuracy: 0.0000e+00\n",
            "Epoch 10/50\n",
            "6895/6895 [==============================] - 118s 17ms/step - loss: 8.7290e-06 - accuracy: 1.4503e-04 - val_loss: 3.4856e-06 - val_accuracy: 0.0000e+00\n",
            "Epoch 11/50\n",
            "6895/6895 [==============================] - 118s 17ms/step - loss: 9.9166e-06 - accuracy: 1.4503e-04 - val_loss: 2.1490e-06 - val_accuracy: 0.0000e+00\n",
            "Epoch 12/50\n",
            "6895/6895 [==============================] - 111s 16ms/step - loss: 7.6837e-06 - accuracy: 1.4503e-04 - val_loss: 5.5472e-07 - val_accuracy: 0.0000e+00\n",
            "Epoch 13/50\n",
            "6895/6895 [==============================] - 118s 17ms/step - loss: 8.6101e-06 - accuracy: 1.4503e-04 - val_loss: 1.2591e-05 - val_accuracy: 0.0000e+00\n",
            "Epoch 14/50\n",
            "6895/6895 [==============================] - 110s 16ms/step - loss: 6.3541e-06 - accuracy: 1.4503e-04 - val_loss: 2.4179e-07 - val_accuracy: 0.0000e+00\n",
            "Epoch 15/50\n",
            "6895/6895 [==============================] - 111s 16ms/step - loss: 6.1785e-06 - accuracy: 1.4503e-04 - val_loss: 2.1396e-06 - val_accuracy: 0.0000e+00\n",
            "Epoch 16/50\n",
            "6895/6895 [==============================] - 109s 16ms/step - loss: 6.5176e-06 - accuracy: 1.4503e-04 - val_loss: 2.6664e-07 - val_accuracy: 0.0000e+00\n",
            "Epoch 17/50\n",
            "6895/6895 [==============================] - 111s 16ms/step - loss: 6.6609e-06 - accuracy: 1.4503e-04 - val_loss: 2.5828e-06 - val_accuracy: 0.0000e+00\n",
            "Epoch 18/50\n",
            "6895/6895 [==============================] - 111s 16ms/step - loss: 6.2343e-06 - accuracy: 1.4503e-04 - val_loss: 1.8921e-06 - val_accuracy: 0.0000e+00\n",
            "Epoch 19/50\n",
            "6895/6895 [==============================] - 117s 17ms/step - loss: 4.9889e-06 - accuracy: 1.4503e-04 - val_loss: 6.3361e-06 - val_accuracy: 0.0000e+00\n",
            "Epoch 20/50\n",
            "6895/6895 [==============================] - 117s 17ms/step - loss: 5.3898e-06 - accuracy: 1.4503e-04 - val_loss: 1.1581e-06 - val_accuracy: 0.0000e+00\n",
            "Epoch 21/50\n",
            "6895/6895 [==============================] - 110s 16ms/step - loss: 6.2454e-06 - accuracy: 1.4503e-04 - val_loss: 3.2172e-06 - val_accuracy: 0.0000e+00\n",
            "Epoch 22/50\n",
            "6895/6895 [==============================] - 111s 16ms/step - loss: 6.1658e-06 - accuracy: 1.4503e-04 - val_loss: 1.7520e-06 - val_accuracy: 0.0000e+00\n",
            "Epoch 23/50\n",
            "6895/6895 [==============================] - 118s 17ms/step - loss: 4.8867e-06 - accuracy: 1.4503e-04 - val_loss: 3.5567e-07 - val_accuracy: 0.0000e+00\n",
            "Epoch 24/50\n",
            "6895/6895 [==============================] - 111s 16ms/step - loss: 5.2054e-06 - accuracy: 1.4503e-04 - val_loss: 2.6148e-06 - val_accuracy: 0.0000e+00\n",
            "Epoch 24: early stopping\n"
          ]
        }
      ]
    },
    {
      "cell_type": "code",
      "source": [
        "# Evaluate the quality of network training on test data (which the network did NOT see)\n",
        "scores_2 = model.evaluate(x_valid, y_valid, verbose=0)"
      ],
      "metadata": {
        "id": "CutM4aA8rVJZ"
      },
      "execution_count": 108,
      "outputs": []
    },
    {
      "cell_type": "code",
      "source": [
        "scores_2"
      ],
      "metadata": {
        "colab": {
          "base_uri": "https://localhost:8080/"
        },
        "id": "ADiGj6GGrch4",
        "outputId": "a421968f-122c-444c-bd79-1633ac4d11c9"
      },
      "execution_count": 109,
      "outputs": [
        {
          "output_type": "execute_result",
          "data": {
            "text/plain": [
              "[2.6171701392740943e-06, 0.0]"
            ]
          },
          "metadata": {},
          "execution_count": 109
        }
      ]
    },
    {
      "cell_type": "code",
      "source": [
        "print(\"Accuracy: %.2f %%\" % (scores_2[1]*100))"
      ],
      "metadata": {
        "colab": {
          "base_uri": "https://localhost:8080/"
        },
        "id": "1n1-C2wcrkqV",
        "outputId": "7448d564-d7f2-4340-cfe3-413516874191"
      },
      "execution_count": 110,
      "outputs": [
        {
          "output_type": "stream",
          "name": "stdout",
          "text": [
            "Accuracy: 0.00 %\n"
          ]
        }
      ]
    },
    {
      "cell_type": "markdown",
      "source": [
        "#### Accuracy graphs during training"
      ],
      "metadata": {
        "id": "cLi6ITExrpQd"
      }
    },
    {
      "cell_type": "code",
      "source": [
        "# Training accuracy\n",
        "\n",
        "plt.plot(history_2.history['accuracy'])\n",
        "plt.xlabel('Accuracy',size=14)\n",
        "plt.show()"
      ],
      "metadata": {
        "colab": {
          "base_uri": "https://localhost:8080/",
          "height": 280
        },
        "id": "elTsKxGprs2I",
        "outputId": "81f612f6-b0cd-4554-b7fb-a6c10007ef65"
      },
      "execution_count": 111,
      "outputs": [
        {
          "output_type": "display_data",
          "data": {
            "text/plain": [
              "<Figure size 432x288 with 1 Axes>"
            ],
            "image/png": "[encoded data removed]"
          },
          "metadata": {}
        }
      ]
    },
    {
      "cell_type": "code",
      "source": [
        "history_dict_2 = history_2.history\n",
        "plt.style.use('seaborn-darkgrid') \n",
        "accuracy_values = history_dict_2['accuracy']\n",
        "\n",
        "val_accuracy_values = history_dict_2['val_accuracy']\n",
        "\n",
        "epochs = range(1, len(accuracy_values) + 1)\n",
        "plt.figure(num=1, figsize=(15,7))\n",
        "plt.plot(epochs, accuracy_values, 'bo', label='Training accuracy')\n",
        "plt.plot(epochs, val_accuracy_values, 'b', label='Validation accuracy')\n",
        "plt.xlabel('Epochs', size=18)\n",
        "plt.ylabel('Accuracy', size=18)\n",
        "plt.legend()\n",
        "plt.show()\n"
      ],
      "metadata": {
        "colab": {
          "base_uri": "https://localhost:8080/",
          "height": 446
        },
        "id": "21gQ16RCry3-",
        "outputId": "a37e59ef-00ca-4806-dd13-464891f375c1"
      },
      "execution_count": 112,
      "outputs": [
        {
          "output_type": "display_data",
          "data": {
            "text/plain": [
              "<Figure size 1080x504 with 1 Axes>"
            ],
            "image/png": "[encoded data removed]"
          },
          "metadata": {}
        }
      ]
    },
    {
      "cell_type": "code",
      "source": [
        "test_data = scaled_data[training_data_len + validation_data_len - 60: , :]\n",
        "#Create the data sets x_test and y_test\n",
        "x_test = []\n",
        "y_test = dataset[training_data_len + validation_data_len:, :]\n",
        "for i in range(60, len(test_data)):\n",
        "    x_test.append(test_data[i-60:i, 0])\n",
        "    \n",
        "# Convert the data to a numpy array\n",
        "x_test = np.array(x_test)\n",
        "\n",
        "# Reshape the data\n",
        "x_test = np.reshape(x_test, (x_test.shape[0], x_test.shape[1], 1 ))\n",
        "\n",
        "# Get the models predicted price values \n",
        "predictions = model.predict(x_test)\n",
        "predictions = scaler.inverse_transform(predictions)\n",
        "\n",
        "# Get the root mean squared error (RMSE)\n",
        "rmse = np.sqrt(np.mean(((predictions - y_test) ** 2)))\n",
        "rmse"
      ],
      "metadata": {
        "id": "gMZXekB4ho_k",
        "colab": {
          "base_uri": "https://localhost:8080/"
        },
        "outputId": "49693f2b-f216-4d98-9438-349cd2487309"
      },
      "execution_count": 113,
      "outputs": [
        {
          "output_type": "stream",
          "name": "stdout",
          "text": [
            "16/16 [==============================] - 0s 7ms/step\n"
          ]
        },
        {
          "output_type": "execute_result",
          "data": {
            "text/plain": [
              "35.3752761187078"
            ]
          },
          "metadata": {},
          "execution_count": 113
        }
      ]
    },
    {
      "cell_type": "code",
      "source": [
        "from sklearn.metrics import mean_absolute_error\n",
        "mean_absolute_error(y_test, predictions)"
      ],
      "metadata": {
        "id": "Enh1bUd3hpIC",
        "colab": {
          "base_uri": "https://localhost:8080/"
        },
        "outputId": "73c5a59a-9eb8-4c72-9209-9bbe6a25fde8"
      },
      "execution_count": 114,
      "outputs": [
        {
          "output_type": "execute_result",
          "data": {
            "text/plain": [
              "2.7904965586830746"
            ]
          },
          "metadata": {},
          "execution_count": 114
        }
      ]
    },
    {
      "cell_type": "code",
      "source": [
        "mse=np.mean(((predictions - y_test) ** 2))\n",
        "mse"
      ],
      "metadata": {
        "id": "LD88YMC_hpLL",
        "colab": {
          "base_uri": "https://localhost:8080/"
        },
        "outputId": "0021090c-7f16-4c25-8c59-0df8e1afd235"
      },
      "execution_count": 115,
      "outputs": [
        {
          "output_type": "execute_result",
          "data": {
            "text/plain": [
              "1251.4101604748184"
            ]
          },
          "metadata": {},
          "execution_count": 115
        }
      ]
    },
    {
      "cell_type": "code",
      "source": [
        "# Get the root mean squared error (RMSE)\n",
        "rmse = np.sqrt(np.mean(((predictions - y_test) ** 2)))\n",
        "rmse"
      ],
      "metadata": {
        "id": "q5i8FX_whpOp",
        "colab": {
          "base_uri": "https://localhost:8080/"
        },
        "outputId": "dc55b8df-fb93-4169-d186-3b0f27e76d07"
      },
      "execution_count": 116,
      "outputs": [
        {
          "output_type": "execute_result",
          "data": {
            "text/plain": [
              "35.3752761187078"
            ]
          },
          "metadata": {},
          "execution_count": 116
        }
      ]
    },
    {
      "cell_type": "code",
      "source": [
        "train = data[:training_data_len]\n",
        "valid = data[training_data_len : training_data_len + validation_data_len]\n",
        "test = data[training_data_len + validation_data_len:]\n",
        "test['Predictions'] = predictions\n",
        "# Visualize the data\n",
        "plt.figure(figsize=(16,8))\n",
        "plt.title('Model')\n",
        "plt.xlabel('Date', fontsize=18)\n",
        "plt.ylabel('Close Price USD ($)', fontsize=18)\n",
        "plt.plot(train['Close'])\n",
        "plt.plot(valid[['Close']])\n",
        "plt.plot(test[['Close','Predictions' ]])\n",
        "plt.legend(['Train', 'Valid',  'Test', 'Predictions'], loc='lower right')\n",
        "plt.show()\n"
      ],
      "metadata": {
        "id": "9PQJ7Kgyh2eW",
        "colab": {
          "base_uri": "https://localhost:8080/",
          "height": 678
        },
        "outputId": "ff10ee54-35fe-4793-ddc8-d64b5e4146d5"
      },
      "execution_count": 117,
      "outputs": [
        {
          "output_type": "stream",
          "name": "stderr",
          "text": [
            "/usr/local/lib/python3.7/dist-packages/ipykernel_launcher.py:4: SettingWithCopyWarning:\n",
            "\n",
            "\n",
            "A value is trying to be set on a copy of a slice from a DataFrame.\n",
            "Try using .loc[row_indexer,col_indexer] = value instead\n",
            "\n",
            "See the caveats in the documentation: https://pandas.pydata.org/pandas-docs/stable/user_guide/indexing.html#returning-a-view-versus-a-copy\n",
            "\n"
          ]
        },
        {
          "output_type": "display_data",
          "data": {
            "text/plain": [
              "<Figure size 1152x576 with 1 Axes>"
            ],
            "image/png": "[encoded data removed]"
          },
          "metadata": {}
        }
      ]
    },
    {
      "cell_type": "code",
      "source": [
        "y_test[:5]"
      ],
      "metadata": {
        "id": "AcuVXBZph3qm",
        "colab": {
          "base_uri": "https://localhost:8080/"
        },
        "outputId": "1c3272ca-d1c0-49b0-f03c-43077f28de23"
      },
      "execution_count": 118,
      "outputs": [
        {
          "output_type": "execute_result",
          "data": {
            "text/plain": [
              "array([[1554.1215],\n",
              "       [1554.305 ],\n",
              "       [1554.555 ],\n",
              "       [1554.1635],\n",
              "       [1553.4535]])"
            ]
          },
          "metadata": {},
          "execution_count": 118
        }
      ]
    },
    {
      "cell_type": "code",
      "source": [
        "predictions[:5]"
      ],
      "metadata": {
        "id": "9E0xwB3Mh30u",
        "colab": {
          "base_uri": "https://localhost:8080/"
        },
        "outputId": "89a10b05-e7b2-424c-92e0-58897a9d6b71"
      },
      "execution_count": 119,
      "outputs": [
        {
          "output_type": "execute_result",
          "data": {
            "text/plain": [
              "array([[1554.781 ],\n",
              "       [1555.1897],\n",
              "       [1555.4496],\n",
              "       [1555.8964],\n",
              "       [1555.5837]], dtype=float32)"
            ]
          },
          "metadata": {},
          "execution_count": 119
        }
      ]
    },
    {
      "cell_type": "code",
      "source": [
        "''"
      ],
      "metadata": {
        "id": "j3cVqP4Gh4AI"
      },
      "execution_count": null,
      "outputs": []
    }
  ]
}